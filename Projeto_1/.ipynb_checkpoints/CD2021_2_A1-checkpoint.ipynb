{
 "cells": [
  {
   "cell_type": "markdown",
   "metadata": {},
   "source": [
    "___\n",
    "# A1 - Avaliação de Ciência dos dados \n",
    "\n",
    "## 2021 - 2o. semestre \n",
    "\n",
    "___\n"
   ]
  },
  {
   "cell_type": "markdown",
   "metadata": {},
   "source": [
    "# COLOQUE SEU NOME AQUI"
   ]
  },
  {
   "cell_type": "markdown",
   "metadata": {},
   "source": [
    "___\n",
    "## Instruções\n",
    "\n",
    "**Leia atentamente as instruções desta avaliação. Essas devem ser seguidas rigorosamente!**\n",
    "\n",
    "**Prezado(a) Aluno(a),**\n",
    "\n",
    "Dia da prova **dia 31/08** a partir das 18h55min.\n",
    "\n",
    "Estaremos no TEAMS a partir das 18h55 utilizando a equipe de Atendimento e Ninjas (canal PROVA) para receber instruções. **Não ingressar na reunião no Teams para poupar sua internet de todos, apenas esteja atento ao chat do canal geral.**\n",
    "\n",
    "\n",
    "Esta avaliação terá as seguintes etapas:\n",
    "\n",
    "**18h55 às 19h05**\n",
    "       \n",
    " * **(10 minutos) - PROCTORIO:** Entre no Blackboard e inicie o teste em `Conteúdos/Avaliações/Avaliação (A1)/A1 (com Proctorio)`. Caso não ative esse teste em até 10 minutos do início da prova (ou seja, até às 19h05), não terá mais direito de entregar essa prova, obtendo falta na mesma.\n",
    "\n",
    "\n",
    "**19h05 às 20h35**  \n",
    "\n",
    " * **(90 minutos) - Desenvolvimento da prova:** Concentre-se em resolver o notebook.\n",
    " * ATENÇÃO: administre esse tempo da maneira que julgar mais adequada para você. **NÃO utilize o cronômetro do Proctorio como referência, mas sim o tempo 90 minutos de prova a partir das 19h05.**\n",
    "\n",
    "\n",
    "**20h35 às 20h45**  \n",
    " * **(10 minutos) - Entrega via Blackboard - Notebook:** O arquivo `.ipynb` deve ser entregue em `Conteúdos/Avaliações/Avaliação (A1)/Entrega da prova`. \n",
    " * ATENÇÃO: **finalize o proctorio (o teste) APENAS após anexar a avaliação no Blackboard.**\n",
    "\n",
    "<br>\n",
    "\n",
    "Leia atentamente as instruções a seguir e as questões da prova antes de começar a resolvê-la.\n",
    "\n",
    "<br> \n",
    "\n",
    "#### Avisos GERAIS: \n",
    "\n",
    "1. Identifique-se no cabeçalho deste arquivo. Essa prova é INDIVIDUAL.\n",
    "1. Você terá 90 minutos a partir do início oficial da prova para concluir esta avaliação, administre bem o seu tempo. Leia atentamente as instruções a seguir e as questões da prova antes de começar a resolvê-la. \n",
    "\n",
    "1. Esta avaliação:\n",
    "  * **PERMITE consulta de material do Blackboard e material on-line (usar navegador para pesquisas no Google, por exemplo)**. \n",
    "  * **PERMITE UTILIZAR APENAS UM COMPUTADOR NO QUAL ESTARÁ REALIZANDO A PROVA.**\n",
    "  * **NÃO PERMITE consulta a colegas (presencial ou remotamente), ou seja, não é permitido ter alguém ao seu lado assim como não é permitido conversar pelo WhatsApp, enviar e-mail ou qualquer outro formato em que converse com outra pessoa**. \n",
    "  * **NÃO PERMITE utilizar CELULAR, TABLET, SEGUNDO COMPUTADOR (ou NOTEBOOK) ou qualquer outro aparelho eletrônico no momento da prova.**\n",
    "  * **Seu olhar deve estar sempre para tela do computador da prova. Evite olhar para baixo ou para os lados com frequência.**\n",
    "  * **A câmera deve estar bem centralizada ao seu rosto, sem filmar teto ou apenas parte do rosto para cima. Atenção em deixar a câmera regulada para dar prioridade em filmar seu rosto por inteiro em todo o momento da prova.** \n",
    "  * **O desrespeito as essas regras constituirá violação ao Código de Ética e de Conduta e acarretará sanções nele previstas. Faça o seu trabalho de maneira ética!** \n",
    "\n",
    "1. Sua prova utilizará o sistema de Proctoring.  Para instalar a extensão, acesse o site https://getproctorio.com/ pelo Google Chrome e siga os passos indicados. Caso tenha dúvidas ou dificuldades, avise seu professor pelo chat e entre em contato com o Help Desk por meio de abertura de chamado ou pelo telefone (11) 4504-2550.\n",
    "Para realizar a prova será necessário:\n",
    "  *\tUm desktop ou um notebook com qualquer sistema operacional (dispositivos móveis não serão aceitos)\n",
    "  *\tMicrofone (interno ou externo)\n",
    "  *\tWebcam (interna ou externa)\n",
    "  *\tNavegador Google Chrome (o sistema funciona somente nele)\n",
    "  *\tExtensão da plataforma instalada (sem ela o sistema não funcionará)\n",
    "\n",
    "1. **É proibido o uso de fones de ouvido durante toda a prova. Não leia as questões em voz alta. Não ouvir música.**\n",
    "1. Sempre que possível, busque criar redundâncias para a rede de internet. Uma forma de fazer isso é utilizar a rede 4G dos celulares.\n",
    "1. Antes de sair da prova, garanta que entregou a prova no link indicado. Verifique se arquivos das questões tiveram seu upload concluído (se necessário) e que fechou a prova ao final. Você é o responsável pela entrega adequada de todas as questões de sua prova. Avaliações entregues fora do prazo não serão aceitas para correção.\n",
    "1. Caso precise se ausentar da frente da câmera para ia ao banheiro, comunique no chat do Teams ao professor e/ou fale para sua câmera. Dessa forma sua ausência estará justificada pelo sistema de proctoring. Lembre-se de ser rápido e retornar prontamente à prova.\n",
    "\n",
    "\n",
    "#### Avisos sobre desenvolvimento da prova:\n",
    "\n",
    "1. Esta avaliação é composta de 5 questões. Caso verifique a falta de alguma questão, entre em contato com seu professor imediatamente pelo Teams.\n",
    "1. Esta Avaliação consiste em responder um arquivo Jupyter que será anexado ao Blackboard ao final da prova.\n",
    "1. Leia atentamente as **Precauções de segurança** abaixo para evitar ter sua prova anulada.\n",
    "1. Você pode utilizar qualquer material individual para consulta – anotações, livros, etc. Mas não pode compartilhar este material com seus colegas presencial ou remotamente.\n",
    "1. Em caso de dúvida sobre alguma questão desta avaliação, redija um texto em uma nova célula deste Jupyter notebook explicitando-a para que o professor avalie a pertinência durante a correção.  \n",
    "1. Leia atentamente cada questão e responda o que for pedido. Erros conceituais serão penalizados, mesmo que o conceito não se relacione com o que foi pedido na questão.\n",
    "1. Caso em algum item você necessite do resultado de um item anterior que você não conseguiu fazer, admita um valor razoável para esse resultado e faça o item normalmente. Indique na questão, caso isso aconteça.\n",
    "1. Todos os resultados devem ser justificados. Números que apareçam sem uma explicação de como foram encontrados serão ignorados na correção.\n",
    "1. **A qualidade do código na resolução em cada item também será levada em consideração, ou seja, códigos complicados para soluções que podem ser simples serão penalizados.**\n",
    "1. Esta avaliação requer **entrega via Blackboard**. **Não serão consideradas entregas por outros meios** (ex: e-mail, MS Teams, etc.).\n",
    "\n",
    "\n",
    "\n",
    "#### Precauções de segurança:\n",
    "\n",
    "1.\tTodas as precauções abaixo podem ser resumidas da seguinte forma: consulte o material que quiser desde que não seja nenhuma pessoa e não compartilhe informações com ninguém. \n",
    "2.\tVocê não pode enviar nenhum tipo de mensagem durante a prova para qualquer pessoa dentro ou fora dela, com exceção do(a) professor(a). Por exemplo: e-mail, Skype, mensagens do Facebook, mensagens do WhatsApp, mensagens via Twitter, etc\n",
    "3.\tVocê não pode compartilhar nenhum tipo de informação em nenhum site, incluindo Pastebin, Codeshare, wikis, etc\n",
    "4.\tVocê não pode perguntar questões da prova no StackOverflow, StackExchange, MathExchange, etc. \n",
    "5.\tVocê pode procurar/tirar dúvida no Google.\n",
    "6.\tVocê pode consultar qualquer arquivo no seu computador.\n",
    "7.\tQualquer transgressão das normas acima pode zerar a nota da prova e implicar em infração ao código de ética do Insper."
   ]
  },
  {
   "cell_type": "markdown",
   "metadata": {},
   "source": [
    "___\n",
    "<div id=\"indice\"></div>\n",
    "\n",
    "## Índice\n",
    "\n",
    "- [Telemarketing](#tele)\n",
    "- [Enunciado](#enunciado)\n",
    "- [Base de dados e dicionário das variáveis](#df)\n",
    "- [PERGUNTA 1](#q1) **[1,50 pontos]**\n",
    "- [PERGUNTA 2](#q2e3) **[1,50 pontos]**\n",
    "- [PERGUNTA 3](#q2e3) **[2,00 pontos]**\n",
    "- [PERGUNTA 4](#q4) **[1,50 pontos]**\n",
    "- [PERGUNTA 5](#q5) **[2,00 pontos]**\n",
    "- [PERGUNTA 6](#q6) **[1,50 pontos]**"
   ]
  },
  {
   "cell_type": "markdown",
   "metadata": {},
   "source": [
    "___\n",
    "<div id=\"tele\"></div>\n",
    "\n",
    "### Telemarketing\n",
    "\n",
    "<img src=\"telemarketing.jpg\" width=\"600\">\n",
    "\n",
    "Fonte: extraído da internet"
   ]
  },
  {
   "cell_type": "markdown",
   "metadata": {},
   "source": [
    "___\n",
    "<div id=\"enunciado\"></div>\n",
    "\n",
    "**ENUNCIADO**\n",
    "\n",
    "*Textos e dados extraído de [Moro et al., 2014] S. Moro, P. Cortez and P. Rita. A Data-Driven Approach to Predict the Success of Bank Telemarketing. Decision Support Systems, Elsevier, 62:22-31, June 2014*\n",
    "\n",
    "<br>\n",
    "\n",
    "As campanhas de vendas de marketing constituem uma estratégia típica para aumentar os negócios. As empresas usam marketing direto para atingir segmentos de clientes entrando em contato com eles para cumprir uma meta específica.\n",
    "\n",
    "Para prever o sucesso do telemarketing na venda de um produto bancário, vários clientes de um banco português foram abordados entre 2008 e 2013.\n"
   ]
  },
  {
   "cell_type": "markdown",
   "metadata": {},
   "source": [
    "___\n",
    "<div id=\"df\"></div>\n",
    "\n",
    "**BASE DE DADOS e DICIONÁRIO DAS VARIÁVEIS**\n",
    "\n",
    "Algumas das variáveis (com nome em inglês) apresentadas na base de dados `A1.xlsx` são:\n",
    " * `age`: idade (em anos)\n",
    " * `marital`: estado civil (com as categorias: 'divorced', 'married', 'single')\n",
    " * `contact`: tipo de linha telefônica utilizada no contato (com as categorias: 'cellular', 'telephone', 'unknown')\n",
    " * `duration`: tempo de duração da chamada para oferecer produto (em segundos) \n",
    " * `y`: adesão ou não do produto oferecido pelo contato telefônico (com as categorias: 'yes', 'no')\n",
    "\n",
    "<br>\n",
    "\n",
    "A base de dados original passou por algumas limpezas. Dessa forma, foram considerados apenas os clientes com até 420 segundos de duração da chamada entre telemarketing e cliente.\n"
   ]
  },
  {
   "cell_type": "markdown",
   "metadata": {},
   "source": [
    "___\n",
    "Carregando algumas bibliotecas:"
   ]
  },
  {
   "cell_type": "code",
   "execution_count": 1,
   "metadata": {},
   "outputs": [],
   "source": [
    "# %matplotlib inline\n",
    "import math\n",
    "import os\n",
    "\n",
    "import matplotlib.pyplot as plt\n",
    "import numpy as np\n",
    "from numpy import arange\n",
    "import pandas as pd\n",
    "\n",
    "from IPython.display import display  # Para ter melhor print."
   ]
  },
  {
   "cell_type": "code",
   "execution_count": 2,
   "metadata": {},
   "outputs": [
    {
     "name": "stdout",
     "output_type": "stream",
     "text": [
      "Esperamos trabalhar no diretório\n",
      "C:\\Users\\Pedro Paulo\\Desktop\\INSPER\\2° SEMESTRE\\Ciência dos Dados\\Provas\n"
     ]
    }
   ],
   "source": [
    "print(\"Esperamos trabalhar no diretório\")\n",
    "print(os.getcwd())"
   ]
  },
  {
   "cell_type": "code",
   "execution_count": 3,
   "metadata": {},
   "outputs": [
    {
     "name": "stdout",
     "output_type": "stream",
     "text": [
      "Parece que o arquivo A1.xlsx está na mesma pasta do notebook da avaliação, yay!\n",
      "\n"
     ]
    }
   ],
   "source": [
    "filename = 'A1.xlsx'\n",
    "\n",
    "if filename in os.listdir():\n",
    "    print(f'Parece que o arquivo {filename} está na mesma pasta do notebook da avaliação, yay!\\n')\n",
    "    \n",
    "else:\n",
    "    print(f'Não encontrei o arquivo {filename}.\\n'\n",
    "          f'O notebook e os arquivos de dados desta avaliação devem ser salvos dentro da mesma pasta no seu computador.\\n')"
   ]
  },
  {
   "cell_type": "code",
   "execution_count": 4,
   "metadata": {
    "scrolled": true
   },
   "outputs": [],
   "source": [
    "# Carregando os dados e guardando em um dataframe nomeado df\n",
    "df = pd.read_excel('A1.xlsx')\n",
    "\n",
    "# Aleatoriza as linhas do dataframe original e armazena no mesmo objeto df\n",
    "from sklearn.utils import shuffle\n",
    "df = shuffle(df).reset_index(drop=True).copy()"
   ]
  },
  {
   "cell_type": "code",
   "execution_count": 49,
   "metadata": {
    "scrolled": true
   },
   "outputs": [
    {
     "data": {
      "text/html": [
       "<div>\n",
       "<style scoped>\n",
       "    .dataframe tbody tr th:only-of-type {\n",
       "        vertical-align: middle;\n",
       "    }\n",
       "\n",
       "    .dataframe tbody tr th {\n",
       "        vertical-align: top;\n",
       "    }\n",
       "\n",
       "    .dataframe thead th {\n",
       "        text-align: right;\n",
       "    }\n",
       "</style>\n",
       "<table border=\"1\" class=\"dataframe\">\n",
       "  <thead>\n",
       "    <tr style=\"text-align: right;\">\n",
       "      <th></th>\n",
       "      <th>age</th>\n",
       "      <th>marital</th>\n",
       "      <th>contact</th>\n",
       "      <th>duration</th>\n",
       "      <th>y</th>\n",
       "    </tr>\n",
       "  </thead>\n",
       "  <tbody>\n",
       "    <tr>\n",
       "      <th>0</th>\n",
       "      <td>44</td>\n",
       "      <td>divorced</td>\n",
       "      <td>cellular</td>\n",
       "      <td>54</td>\n",
       "      <td>no</td>\n",
       "    </tr>\n",
       "    <tr>\n",
       "      <th>1</th>\n",
       "      <td>39</td>\n",
       "      <td>married</td>\n",
       "      <td>unknown</td>\n",
       "      <td>225</td>\n",
       "      <td>no</td>\n",
       "    </tr>\n",
       "    <tr>\n",
       "      <th>2</th>\n",
       "      <td>50</td>\n",
       "      <td>married</td>\n",
       "      <td>telephone</td>\n",
       "      <td>238</td>\n",
       "      <td>no</td>\n",
       "    </tr>\n",
       "  </tbody>\n",
       "</table>\n",
       "</div>"
      ],
      "text/plain": [
       "   age   marital    contact  duration   y\n",
       "0   44  divorced   cellular        54  no\n",
       "1   39   married    unknown       225  no\n",
       "2   50   married  telephone       238  no"
      ]
     },
     "execution_count": 49,
     "metadata": {},
     "output_type": "execute_result"
    }
   ],
   "source": [
    "# Visualizando as primeiras linhas do dataframe\n",
    "df.head(3)"
   ]
  },
  {
   "cell_type": "code",
   "execution_count": 6,
   "metadata": {},
   "outputs": [
    {
     "name": "stdout",
     "output_type": "stream",
     "text": [
      "Dimensão da bae de dados considerando (linhas e colunas):  (3753, 5)\n",
      "\n",
      "\n",
      "Tipo de cada coluna da base de dados:\n",
      "age          int64\n",
      "marital     object\n",
      "contact     object\n",
      "duration     int64\n",
      "y           object\n",
      "dtype: object\n"
     ]
    }
   ],
   "source": [
    "# Para conhecimento sobre a base de dados:\n",
    "print(\"Dimensão da bae de dados considerando (linhas e colunas): \", df.shape)\n",
    "print(\"\\n\")\n",
    "print(\"Tipo de cada coluna da base de dados:\")\n",
    "print(df.dtypes)"
   ]
  },
  {
   "cell_type": "markdown",
   "metadata": {},
   "source": [
    "___\n",
    "<div id=\"q1\"></div>\n",
    "\n",
    "### PERGUNTA 1 do BB (1,50 pontos)\n",
    "\n",
    "Considerando **apenas os clientes com o perfil descrito no teste do Blackboard**, calcule:\n",
    "\n",
    " > a)\t**Quantidade** de clientes nesse perfil.\n",
    " >\n",
    " > b)\t**Idade média** dos clientes nesse perfil.\n",
    " >\n",
    " > c)\t**Desvio padrão da idade** dos clientes nesse perfil.\n",
    "\n",
    "<br> \n",
    "\n",
    "**Atenção:** \n",
    " * Na Pergunta 1 do teste do Blackboard, digite esses valores sendo os itens (b) e (c) com arredondamento de quatro casas decimais.\n"
   ]
  },
  {
   "cell_type": "code",
   "execution_count": 58,
   "metadata": {},
   "outputs": [
    {
     "data": {
      "text/html": [
       "<div>\n",
       "<style scoped>\n",
       "    .dataframe tbody tr th:only-of-type {\n",
       "        vertical-align: middle;\n",
       "    }\n",
       "\n",
       "    .dataframe tbody tr th {\n",
       "        vertical-align: top;\n",
       "    }\n",
       "\n",
       "    .dataframe thead th {\n",
       "        text-align: right;\n",
       "    }\n",
       "</style>\n",
       "<table border=\"1\" class=\"dataframe\">\n",
       "  <thead>\n",
       "    <tr style=\"text-align: right;\">\n",
       "      <th></th>\n",
       "      <th>contact</th>\n",
       "    </tr>\n",
       "  </thead>\n",
       "  <tbody>\n",
       "    <tr>\n",
       "      <th>cellular</th>\n",
       "      <td>2386</td>\n",
       "    </tr>\n",
       "    <tr>\n",
       "      <th>unknown</th>\n",
       "      <td>1109</td>\n",
       "    </tr>\n",
       "    <tr>\n",
       "      <th>telephone</th>\n",
       "      <td>258</td>\n",
       "    </tr>\n",
       "  </tbody>\n",
       "</table>\n",
       "</div>"
      ],
      "text/plain": [
       "           contact\n",
       "cellular      2386\n",
       "unknown       1109\n",
       "telephone      258"
      ]
     },
     "execution_count": 58,
     "metadata": {},
     "output_type": "execute_result"
    }
   ],
   "source": [
    "# ESCREVA SEU CÓDIGO AQUI\n",
    "#a)\n",
    "\n",
    "telefone = df.loc[df.contact == 'telephone',:]\n",
    "\n",
    "df.contact.value_counts().to_frame()\n",
    "\n"
   ]
  },
  {
   "cell_type": "code",
   "execution_count": 113,
   "metadata": {},
   "outputs": [
    {
     "data": {
      "text/plain": [
       "47.7093023255814"
      ]
     },
     "metadata": {},
     "output_type": "display_data"
    },
    {
     "name": "stdout",
     "output_type": "stream",
     "text": [
      "Média : 47.7093 \n"
     ]
    }
   ],
   "source": [
    "#b)\n",
    "display(telefone.age.mean())\n",
    "print('Média : {:.4f} '.format(telefone.age.mean()))\n"
   ]
  },
  {
   "cell_type": "code",
   "execution_count": 114,
   "metadata": {},
   "outputs": [
    {
     "data": {
      "text/plain": [
       "13.563971170282084"
      ]
     },
     "metadata": {},
     "output_type": "display_data"
    },
    {
     "name": "stdout",
     "output_type": "stream",
     "text": [
      "Desvio Padrão 13.5640\n"
     ]
    }
   ],
   "source": [
    "#c)\n",
    "display(telefone.age.std())\n",
    "print('Desvio Padrão {:.4f}'.format(telefone.age.std()))"
   ]
  },
  {
   "cell_type": "markdown",
   "metadata": {},
   "source": [
    "[Volta ao Índice](#indice)"
   ]
  },
  {
   "cell_type": "markdown",
   "metadata": {},
   "source": [
    "___\n",
    "<div id=\"q2e3\"></div>\n",
    "\n",
    "### PERGUNTA 2 e PERGUNTA 3 do BB (1,50 e 2,00 pontos, respectivamente)\n",
    "\n",
    "Considerando o tempo de duração da chamada **apenas dos clientes com o perfil descrito no teste do Blackboard**, calcule:\n",
    "\n",
    " > \n",
    " > Os **percentis** de ordem 0%, 10%, 90% e 100%.\n",
    " >\n",
    "\n",
    "<br>\n",
    "\n",
    "**Atenção:** \n",
    " * Na Pergunta 2 do teste do Blackboard, assinale a interpretação correta considerando os resultados desses percentis.\n",
    " * Na Pergunta 3 do teste do Blackboard, digite esses quatro valores aqui calculados com uma casa decimal.\n"
   ]
  },
  {
   "cell_type": "code",
   "execution_count": 105,
   "metadata": {},
   "outputs": [
    {
     "name": "stdout",
     "output_type": "stream",
     "text": [
      "Percentil:  0%  == 30.0s\n",
      "Percentil:  10%  == 124.7s\n",
      "Percentil:  90%  == 386.6s\n",
      "Percentil:  100%  == 418.0s\n"
     ]
    }
   ],
   "source": [
    "# ESCREVA SEU CÓDIGO AQUI\n",
    "adesao_sim = df.loc[df.y == 'yes',]\n",
    "print('Percentil:  0%  == {}s'.format(adesao_sim.duration.quantile(0)))\n",
    "print('Percentil:  10%  == {}s'.format(adesao_sim.duration.quantile(0.1)))\n",
    "print('Percentil:  90%  == {}s'.format(adesao_sim.duration.quantile(0.9)))\n",
    "print('Percentil:  100%  == {}s'.format(adesao_sim.duration.quantile(1)))\n"
   ]
  },
  {
   "cell_type": "code",
   "execution_count": null,
   "metadata": {},
   "outputs": [],
   "source": []
  },
  {
   "cell_type": "code",
   "execution_count": null,
   "metadata": {},
   "outputs": [],
   "source": []
  },
  {
   "cell_type": "markdown",
   "metadata": {},
   "source": [
    "[Volta ao Índice](#indice)"
   ]
  },
  {
   "cell_type": "markdown",
   "metadata": {},
   "source": [
    "___\n",
    "<div id=\"q4\"></div>\n",
    "\n",
    "### PERGUNTA 4 do BB (1,50 pontos)\n",
    "\n",
    "Para a variável `duration` considerando **apenas o perfil de clientes descrito no teste do Blackboard**, faça:\n",
    "\n",
    " > 1. Construção de um **histograma**.\n",
    " >\n",
    " > 1. Uso, obrigatoriamente, de **faixas iguais** com amplitudes de 60 segundos, iniciando em zero e terminando em 420 (incluindo esse valor 420 na última faixa).\n",
    " >\n",
    " > 1. Uso de **densidade**.\n",
    "\n",
    "<br>\n",
    "\n",
    "\n",
    "**Atenção:**  \n",
    " * Na Pergunta 4 do teste do Blackboard, assinale a interpretação correta a partir do histograma construído.\n"
   ]
  },
  {
   "cell_type": "code",
   "execution_count": 72,
   "metadata": {},
   "outputs": [
    {
     "data": {
      "image/png": "[encoded data removed]",
      "text/plain": [
       "<Figure size 432x288 with 1 Axes>"
      ]
     },
     "metadata": {
      "needs_background": "light"
     },
     "output_type": "display_data"
    }
   ],
   "source": [
    "# ESCREVA SEU CÓDIGO AQUI\n",
    "faixas = np.arange(0,420,60)\n",
    "\n",
    "plt.hist(adesao_sim.duration, bins= faixas, edgecolor='white', density = True)\n",
    "plt.title('Clientes que fizeram adesão do produto')\n",
    "plt.xlabel('Duração Chamada')\n",
    "plt.ylabel('Densidade')\n",
    "plt.plot()\n",
    "plt.tight_layout()\n",
    "plt.show()"
   ]
  },
  {
   "cell_type": "code",
   "execution_count": null,
   "metadata": {},
   "outputs": [],
   "source": []
  },
  {
   "cell_type": "code",
   "execution_count": null,
   "metadata": {},
   "outputs": [],
   "source": []
  },
  {
   "cell_type": "markdown",
   "metadata": {},
   "source": [
    "[Volta ao Índice](#indice)"
   ]
  },
  {
   "cell_type": "markdown",
   "metadata": {},
   "source": [
    "___\n",
    "<div id=\"q5\"></div>\n",
    "\n",
    "### PERGUNTA 5 do BB (2,00 pontos)\n",
    "\n",
    "A partir da base de dados original `df`, crie uma nova base de dados com o **filtro conforme perfil descrito no teste do Blackboard**.\n",
    "\n",
    " > \n",
    " > Nesse perfil, encontre o cliente com maior tempo de duração da chamada (`duration`) e se esse cliente fez ou não adesão (`y`).\n",
    " >\n",
    "\n",
    "<br>\n",
    "\n",
    "**Atenção:** \n",
    " * Na Pergunta 5 do teste do Blackboard, digite maior tempo de duração da chamada e respectiva resposta na variável `y` obtidos com esse filtro.\n",
    "\n"
   ]
  },
  {
   "cell_type": "code",
   "execution_count": 98,
   "metadata": {},
   "outputs": [
    {
     "data": {
      "text/html": [
       "<div>\n",
       "<style scoped>\n",
       "    .dataframe tbody tr th:only-of-type {\n",
       "        vertical-align: middle;\n",
       "    }\n",
       "\n",
       "    .dataframe tbody tr th {\n",
       "        vertical-align: top;\n",
       "    }\n",
       "\n",
       "    .dataframe thead th {\n",
       "        text-align: right;\n",
       "    }\n",
       "</style>\n",
       "<table border=\"1\" class=\"dataframe\">\n",
       "  <thead>\n",
       "    <tr style=\"text-align: right;\">\n",
       "      <th></th>\n",
       "      <th>age</th>\n",
       "      <th>marital</th>\n",
       "      <th>contact</th>\n",
       "      <th>duration</th>\n",
       "      <th>y</th>\n",
       "    </tr>\n",
       "  </thead>\n",
       "  <tbody>\n",
       "    <tr>\n",
       "      <th>3580</th>\n",
       "      <td>29</td>\n",
       "      <td>single</td>\n",
       "      <td>telephone</td>\n",
       "      <td>403</td>\n",
       "      <td>yes</td>\n",
       "    </tr>\n",
       "    <tr>\n",
       "      <th>2870</th>\n",
       "      <td>28</td>\n",
       "      <td>single</td>\n",
       "      <td>telephone</td>\n",
       "      <td>360</td>\n",
       "      <td>yes</td>\n",
       "    </tr>\n",
       "    <tr>\n",
       "      <th>82</th>\n",
       "      <td>21</td>\n",
       "      <td>single</td>\n",
       "      <td>telephone</td>\n",
       "      <td>329</td>\n",
       "      <td>no</td>\n",
       "    </tr>\n",
       "    <tr>\n",
       "      <th>2998</th>\n",
       "      <td>28</td>\n",
       "      <td>single</td>\n",
       "      <td>telephone</td>\n",
       "      <td>318</td>\n",
       "      <td>no</td>\n",
       "    </tr>\n",
       "    <tr>\n",
       "      <th>2441</th>\n",
       "      <td>38</td>\n",
       "      <td>single</td>\n",
       "      <td>telephone</td>\n",
       "      <td>293</td>\n",
       "      <td>no</td>\n",
       "    </tr>\n",
       "  </tbody>\n",
       "</table>\n",
       "</div>"
      ],
      "text/plain": [
       "      age marital    contact  duration    y\n",
       "3580   29  single  telephone       403  yes\n",
       "2870   28  single  telephone       360  yes\n",
       "82     21  single  telephone       329   no\n",
       "2998   28  single  telephone       318   no\n",
       "2441   38  single  telephone       293   no"
      ]
     },
     "metadata": {},
     "output_type": "display_data"
    }
   ],
   "source": [
    "# ESCREVA SEU CÓDIGO AQUI\n",
    "filtro = df.loc[(df.marital == 'single')&(df.contact == 'telephone'),:]\n",
    "\n",
    "display(filtro.sort_values(by = 'duration', ascending = False).head(5))"
   ]
  },
  {
   "cell_type": "code",
   "execution_count": null,
   "metadata": {},
   "outputs": [],
   "source": []
  },
  {
   "cell_type": "code",
   "execution_count": null,
   "metadata": {},
   "outputs": [],
   "source": []
  },
  {
   "cell_type": "markdown",
   "metadata": {},
   "source": [
    "[Volta ao Índice](#indice)"
   ]
  },
  {
   "cell_type": "markdown",
   "metadata": {},
   "source": [
    "___\n",
    "<div id=\"q6\"></div>\n",
    "\n",
    "### PERGUNTA 6 do BB (1,50 pontos)\n",
    "\n",
    "Faça uso de uma análise estatística adequada que permita responder a seguinte pergunta:\n",
    "\n",
    " > \n",
    " > **Percentual de clientes de acordo com a pergunta feita no teste do Blackboard**.\n",
    " >\n",
    "\n",
    "<br>\n",
    "\n",
    "**Atenção:** \n",
    " * Na Pergunta 6 do teste do Blackboard, digite valor em decimal (sem ser multiplicado por 100), use vírgula e com 4 casas decimais.\n"
   ]
  },
  {
   "cell_type": "code",
   "execution_count": 96,
   "metadata": {},
   "outputs": [
    {
     "data": {
      "text/html": [
       "<div>\n",
       "<style scoped>\n",
       "    .dataframe tbody tr th:only-of-type {\n",
       "        vertical-align: middle;\n",
       "    }\n",
       "\n",
       "    .dataframe tbody tr th {\n",
       "        vertical-align: top;\n",
       "    }\n",
       "\n",
       "    .dataframe thead th {\n",
       "        text-align: right;\n",
       "    }\n",
       "</style>\n",
       "<table border=\"1\" class=\"dataframe\">\n",
       "  <thead>\n",
       "    <tr style=\"text-align: right;\">\n",
       "      <th>contact</th>\n",
       "      <th>cellular</th>\n",
       "      <th>telephone</th>\n",
       "      <th>unknown</th>\n",
       "    </tr>\n",
       "    <tr>\n",
       "      <th>y</th>\n",
       "      <th></th>\n",
       "      <th></th>\n",
       "      <th></th>\n",
       "    </tr>\n",
       "  </thead>\n",
       "  <tbody>\n",
       "    <tr>\n",
       "      <th>no</th>\n",
       "      <td>0.619971</td>\n",
       "      <td>0.065906</td>\n",
       "      <td>0.314123</td>\n",
       "    </tr>\n",
       "    <tr>\n",
       "      <th>yes</th>\n",
       "      <td>0.858871</td>\n",
       "      <td>0.108871</td>\n",
       "      <td>0.032258</td>\n",
       "    </tr>\n",
       "    <tr>\n",
       "      <th>All</th>\n",
       "      <td>0.635758</td>\n",
       "      <td>0.068745</td>\n",
       "      <td>0.295497</td>\n",
       "    </tr>\n",
       "  </tbody>\n",
       "</table>\n",
       "</div>"
      ],
      "text/plain": [
       "contact  cellular  telephone   unknown\n",
       "y                                     \n",
       "no       0.619971   0.065906  0.314123\n",
       "yes      0.858871   0.108871  0.032258\n",
       "All      0.635758   0.068745  0.295497"
      ]
     },
     "metadata": {},
     "output_type": "display_data"
    }
   ],
   "source": [
    "# ESCREVA SEU CÓDIGO AQUI\n",
    "display(pd.crosstab(df.y, df.contact,margins=True, normalize = 'index'))"
   ]
  },
  {
   "cell_type": "code",
   "execution_count": null,
   "metadata": {},
   "outputs": [],
   "source": []
  },
  {
   "cell_type": "code",
   "execution_count": null,
   "metadata": {},
   "outputs": [],
   "source": []
  },
  {
   "cell_type": "markdown",
   "metadata": {},
   "source": [
    "[Volta ao Índice](#indice)"
   ]
  }
 ],
 "metadata": {
  "kernelspec": {
   "display_name": "Python 3",
   "language": "python",
   "name": "python3"
  },
  "language_info": {
   "codemirror_mode": {
    "name": "ipython",
    "version": 3
   },
   "file_extension": ".py",
   "mimetype": "text/x-python",
   "name": "python",
   "nbconvert_exporter": "python",
   "pygments_lexer": "ipython3",
   "version": "3.8.5"
  }
 },
 "nbformat": 4,
 "nbformat_minor": 4
}
