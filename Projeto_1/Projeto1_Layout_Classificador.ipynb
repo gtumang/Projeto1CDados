{
 "cells": [
  {
   "cell_type": "markdown",
   "metadata": {},
   "source": [
    "# Projeto 1 - Ciência dos Dados"
   ]
  },
  {
   "cell_type": "markdown",
   "metadata": {},
   "source": [
    "Nome: Pedro Paulo Moreno Camargo\n",
    "\n",
    "Nome: Gabriel Brunoro Tumang"
   ]
  },
  {
   "cell_type": "markdown",
   "metadata": {},
   "source": [
    "Atenção: Serão permitidos grupos de três pessoas, mas com uma rubrica mais exigente. Grupos deste tamanho precisarão fazer um questionário de avaliação de trabalho em equipe"
   ]
  },
  {
   "cell_type": "markdown",
   "metadata": {},
   "source": [
    "# Contextualização"
   ]
  },
  {
   "cell_type": "markdown",
   "metadata": {},
   "source": [
    "O nosso grupo de Ciência dos Dados foi contratado pela Netflix para analisar a reação das pessoas em relação a recém-lançada 5 temporada da série mundialmente conhecida \"La Casa de Papel\".\n",
    "\n",
    "Para realizarmos essa análise temos que classificar diferentes Tweets como relevantes ou irrelevantes:\n",
    "\n",
    "Os relevantes seriam Tweets que se encaixam nos tópicos abaixo:\n",
    "\n",
    "-Falar bem ou mal da série sendo eles comentários construtivos ou não.\n",
    "\n",
    "-Falar ou mencionar quinta temporada.\n",
    "\n",
    "-Os Tweets em que mostra que a pessoas se emocionou assistindo a série.\n",
    "\n",
    "Já os irrelevantes seriam os Tweets que não abordam nenhum desses tópicos.\n",
    "\n",
    "Para realizar a classificação decidimos utilizar o Classificador Naive-Bayes, que é largamente utilizado em filtros AntiSpam de e-mails.\n"
   ]
  },
  {
   "cell_type": "markdown",
   "metadata": {},
   "source": [
    "##### Carregando algumas bibliotecas:\n"
   ]
  },
  {
   "cell_type": "code",
   "execution_count": 1,
   "metadata": {},
   "outputs": [
    {
     "name": "stderr",
     "output_type": "stream",
     "text": [
      "[nltk_data] Downloading package stopwords to C:\\Users\\Pedro\n",
      "[nltk_data]     Paulo\\AppData\\Roaming\\nltk_data...\n",
      "[nltk_data]   Package stopwords is already up-to-date!\n"
     ]
    },
    {
     "data": {
      "text/plain": [
       "True"
      ]
     },
     "execution_count": 1,
     "metadata": {},
     "output_type": "execute_result"
    }
   ],
   "source": [
    "import os\n",
    "%matplotlib inline\n",
    "import pandas as pd\n",
    "import matplotlib.pyplot as plt\n",
    "import numpy as np\n",
    "import os\n",
    "import nltk\n",
    "from nltk.tokenize import word_tokenize\n",
    "import emoji\n",
    "import re     \n",
    "from sklearn.model_selection import train_test_split\n",
    "nltk.download('stopwords')\n",
    "\n"
   ]
  },
  {
   "cell_type": "code",
   "execution_count": 2,
   "metadata": {
    "scrolled": false
   },
   "outputs": [
    {
     "name": "stdout",
     "output_type": "stream",
     "text": [
      "Esperamos trabalhar no diretório\n",
      "C:\\Users\\Pedro Paulo\\Desktop\\INSPER\\2° SEMESTRE\\Ciência dos Dados\\Projeto1CDados\\Projeto_1\n"
     ]
    }
   ],
   "source": [
    "print('Esperamos trabalhar no diretório')\n",
    "print(os.getcwd())"
   ]
  },
  {
   "cell_type": "markdown",
   "metadata": {},
   "source": [
    "Carregando a base de dados com os tweets classificados como relevantes e não relevantes:"
   ]
  },
  {
   "cell_type": "code",
   "execution_count": 3,
   "metadata": {},
   "outputs": [],
   "source": [
    "filename = 'La Casa De Papel.xlsx'"
   ]
  },
  {
   "cell_type": "code",
   "execution_count": 4,
   "metadata": {},
   "outputs": [
    {
     "data": {
      "text/html": [
       "<div>\n",
       "<style scoped>\n",
       "    .dataframe tbody tr th:only-of-type {\n",
       "        vertical-align: middle;\n",
       "    }\n",
       "\n",
       "    .dataframe tbody tr th {\n",
       "        vertical-align: top;\n",
       "    }\n",
       "\n",
       "    .dataframe thead th {\n",
       "        text-align: right;\n",
       "    }\n",
       "</style>\n",
       "<table border=\"1\" class=\"dataframe\">\n",
       "  <thead>\n",
       "    <tr style=\"text-align: right;\">\n",
       "      <th></th>\n",
       "      <th>Treinamento</th>\n",
       "      <th>Classificação</th>\n",
       "    </tr>\n",
       "  </thead>\n",
       "  <tbody>\n",
       "    <tr>\n",
       "      <th>0</th>\n",
       "      <td>slc ontem comecei a ver “la casa de papel” man...</td>\n",
       "      <td>1</td>\n",
       "    </tr>\n",
       "    <tr>\n",
       "      <th>1</th>\n",
       "      <td>mds alguém me empresta netflix pra eu ver lá c...</td>\n",
       "      <td>0</td>\n",
       "    </tr>\n",
       "    <tr>\n",
       "      <th>2</th>\n",
       "      <td>se bolsonaro fosse um personagem de la casa de...</td>\n",
       "      <td>0</td>\n",
       "    </tr>\n",
       "    <tr>\n",
       "      <th>3</th>\n",
       "      <td>to vendo lá casa de papel pela 2 vez 🥺</td>\n",
       "      <td>0</td>\n",
       "    </tr>\n",
       "    <tr>\n",
       "      <th>4</th>\n",
       "      <td>@stefslvatore muri pfvr n me dá spoiler de la ...</td>\n",
       "      <td>0</td>\n",
       "    </tr>\n",
       "  </tbody>\n",
       "</table>\n",
       "</div>"
      ],
      "text/plain": [
       "                                         Treinamento  Classificação\n",
       "0  slc ontem comecei a ver “la casa de papel” man...              1\n",
       "1  mds alguém me empresta netflix pra eu ver lá c...              0\n",
       "2  se bolsonaro fosse um personagem de la casa de...              0\n",
       "3             to vendo lá casa de papel pela 2 vez 🥺              0\n",
       "4  @stefslvatore muri pfvr n me dá spoiler de la ...              0"
      ]
     },
     "execution_count": 4,
     "metadata": {},
     "output_type": "execute_result"
    }
   ],
   "source": [
    "train = pd.read_excel(filename)\n",
    "train.head(5)"
   ]
  },
  {
   "cell_type": "code",
   "execution_count": 5,
   "metadata": {},
   "outputs": [
    {
     "data": {
      "text/html": [
       "<div>\n",
       "<style scoped>\n",
       "    .dataframe tbody tr th:only-of-type {\n",
       "        vertical-align: middle;\n",
       "    }\n",
       "\n",
       "    .dataframe tbody tr th {\n",
       "        vertical-align: top;\n",
       "    }\n",
       "\n",
       "    .dataframe thead th {\n",
       "        text-align: right;\n",
       "    }\n",
       "</style>\n",
       "<table border=\"1\" class=\"dataframe\">\n",
       "  <thead>\n",
       "    <tr style=\"text-align: right;\">\n",
       "      <th></th>\n",
       "      <th>Teste</th>\n",
       "      <th>Classificação</th>\n",
       "    </tr>\n",
       "  </thead>\n",
       "  <tbody>\n",
       "    <tr>\n",
       "      <th>0</th>\n",
       "      <td>la casa de papel me decepcionou em um nível..</td>\n",
       "      <td>1.0</td>\n",
       "    </tr>\n",
       "    <tr>\n",
       "      <th>1</th>\n",
       "      <td>eu assisti la casa de papel de uma vez só 🙄🤷🏽‍♀️</td>\n",
       "      <td>0.0</td>\n",
       "    </tr>\n",
       "    <tr>\n",
       "      <th>2</th>\n",
       "      <td>@pdrohsou eu vou dar!!!! ontem meu humor não t...</td>\n",
       "      <td>1.0</td>\n",
       "    </tr>\n",
       "    <tr>\n",
       "      <th>3</th>\n",
       "      <td>eu vou fazer igual o professor em lá casa de p...</td>\n",
       "      <td>0.0</td>\n",
       "    </tr>\n",
       "    <tr>\n",
       "      <th>4</th>\n",
       "      <td>me sentindo uma grandessíssima trouxa por ter ...</td>\n",
       "      <td>1.0</td>\n",
       "    </tr>\n",
       "  </tbody>\n",
       "</table>\n",
       "</div>"
      ],
      "text/plain": [
       "                                               Teste  Classificação\n",
       "0      la casa de papel me decepcionou em um nível..            1.0\n",
       "1   eu assisti la casa de papel de uma vez só 🙄🤷🏽‍♀️            0.0\n",
       "2  @pdrohsou eu vou dar!!!! ontem meu humor não t...            1.0\n",
       "3  eu vou fazer igual o professor em lá casa de p...            0.0\n",
       "4  me sentindo uma grandessíssima trouxa por ter ...            1.0"
      ]
     },
     "execution_count": 5,
     "metadata": {},
     "output_type": "execute_result"
    }
   ],
   "source": [
    "test = pd.read_excel(filename, sheet_name = 'Teste')\n",
    "test.head(5)"
   ]
  },
  {
   "cell_type": "markdown",
   "metadata": {},
   "source": [
    "___\n",
    "## Classificador automático de sentimento\n"
   ]
  },
  {
   "cell_type": "markdown",
   "metadata": {},
   "source": [
    "Faça aqui uma descrição do seu produto e o que considerou como relevante ou não relevante na classificação dos tweets.\n",
    "\n",
    "O produto escolhido foi a série da Netflix La Casa de Papel que teve sua quinta temporada lançada recentemente. Consideramos como tweets relevantes os tweets que falam ou mencionam sobre a quinta temporada em si, os que as pessoas se emocionaram com a série e os que falam bem ou mal da série independentemente de ser uma crítica construtiva ou não como irrelevantes."
   ]
  },
  {
   "cell_type": "markdown",
   "metadata": {},
   "source": [
    "___\n",
    "### Montando um Classificador Naive-Bayes\n",
    "\n",
    "Considerando apenas as mensagens da planilha Treinamento, ensine  seu classificador."
   ]
  },
  {
   "cell_type": "markdown",
   "metadata": {},
   "source": [
    "# Limpeza de Caraceteres"
   ]
  },
  {
   "cell_type": "markdown",
   "metadata": {},
   "source": [
    "##### Função para Remover links de Sites dos Tweets. Ex: https://www.google.com.br/webhp?hl=pt-BR&ictx=2&sa=X&ved=0ahUKEwjs-MbV4pLzAhURIrkGHX2WCX4QPQgJ\n"
   ]
  },
  {
   "cell_type": "code",
   "execution_count": 6,
   "metadata": {},
   "outputs": [],
   "source": [
    "#Limpeza de Carateres \n",
    "\n",
    "def Remove_URL(dataframe,Index):\n",
    "#Remove Url\n",
    "    dataframe[Index] = dataframe[Index].str.replace('http[s]?://(?:[a-zA-Z]|[0-9]|[$-_@.&+]|[!*\\(\\),]|(?:%[0-9a-fA-F][0-9a-fA-F]))+', ' ')\n",
    "\n",
    "Remove_URL(train, 'Treinamento')\n",
    "\n",
    "Remove_URL(test, 'Teste')"
   ]
  },
  {
   "cell_type": "markdown",
   "metadata": {},
   "source": [
    "##### Função para remover os usuários de um Tweet. Ex: @joao_123\n"
   ]
  },
  {
   "cell_type": "code",
   "execution_count": 7,
   "metadata": {},
   "outputs": [],
   "source": [
    "#Limpa o Usuário a quem está sendo feita a Reply\n",
    "def limpa_username(tweet):\n",
    "    x = re.sub('@[\\w]+ ','',tweet)\n",
    "    return x"
   ]
  },
  {
   "cell_type": "markdown",
   "metadata": {},
   "source": [
    "##### Função para separar emojis entre si e as palavra e limpar pontuações consideradas desnecessárias"
   ]
  },
  {
   "cell_type": "code",
   "execution_count": 8,
   "metadata": {},
   "outputs": [],
   "source": [
    "def cleanup(text):\n",
    "    #import string\n",
    "    limpa_emoji=' '.join(emoji.get_emoji_regexp().split(text)) #Espaça os emojis entre eles e entre as palavras\n",
    "    punctuation = '[!-.:?;/()\\n“”]' # Note que os sinais [] são delimitadores de um conjunto.\n",
    "    pattern = re.compile(punctuation)\n",
    "    text_subbed = re.sub(pattern, '', limpa_emoji)\n",
    "    return text_subbed"
   ]
  },
  {
   "cell_type": "markdown",
   "metadata": {},
   "source": [
    "##### Aplicação dessas Funções"
   ]
  },
  {
   "cell_type": "code",
   "execution_count": 9,
   "metadata": {},
   "outputs": [],
   "source": [
    "#Aplica a exclusão das Caracteres e dos Usuarios nos Tweets de Treino\n",
    "lista_sem_reply = []\n",
    "for i in train.Treinamento:\n",
    "    x = limpa_username(i)\n",
    "    y = cleanup(x)\n",
    "    lista_sem_reply.append(y)\n",
    "    \n",
    "#Aplica a exclusão das Caracteres e dos Usuarios nos Tweets de Teste\n",
    "lista_teste_sem_reply = []\n",
    "for i in test.Teste:\n",
    "    x = limpa_username(i)\n",
    "    y = cleanup(x)\n",
    "    lista_teste_sem_reply.append(y)\n",
    "    \n",
    "    \n",
    "\n",
    "\n",
    "train.Treinamento = lista_sem_reply\n",
    "\n",
    "test.Teste = lista_teste_sem_reply\n",
    "\n",
    "valores_teste = lista_teste_sem_reply \n",
    "\n",
    "valores = train.Treinamento"
   ]
  },
  {
   "cell_type": "markdown",
   "metadata": {},
   "source": [
    "##### Remove Palavras como artigos pronomes e preposições. Exemplos: Eu, ele, uns, umas..."
   ]
  },
  {
   "cell_type": "code",
   "execution_count": 10,
   "metadata": {},
   "outputs": [],
   "source": [
    "#Tira Stop Words como (artigos, pronomes, preposições ...)\n",
    "\n",
    "\n",
    "\n",
    "Stop_Words = nltk.corpus.stopwords.words('portuguese')\n",
    "\n",
    "def filtro(tweet):\n",
    "    lista_palavras = tweet.split(' ')\n",
    "    string = ''\n",
    "    for palavra in lista_palavras:\n",
    "        if palavra in Stop_Words:\n",
    "            pass\n",
    "        else:\n",
    "            string += palavra + ' '\n",
    "    return string.strip()\n",
    "\n",
    "\n",
    "#Tira Stop Words como (artigos, pronomes, preposições ...) para tweets de Treinamento\n",
    "lista_x = []       \n",
    "for i in valores:\n",
    "    filtrado = filtro(i)\n",
    "    lista_x.append(filtrado)\n",
    "\n",
    "#Tira Stop Words como (artigos, pronomes, preposições ...) para tweets de Teste    \n",
    "lista_y = []\n",
    "for i in valores_teste:\n",
    "    filtrado = filtro(i)\n",
    "    lista_y.append(filtrado)\n",
    "    \n",
    "\n",
    "teste_filtrado = test\n",
    "    \n",
    "train.Treinamento = lista_x\n",
    "\n",
    "totalmente_filtrado = train"
   ]
  },
  {
   "cell_type": "markdown",
   "metadata": {},
   "source": [
    "# Separação dos Tweets: Relevantes, Não Relevantes e Total"
   ]
  },
  {
   "cell_type": "markdown",
   "metadata": {},
   "source": [
    "##### Armazena todas as palavras relevantes e irrelevantes separadamente em strings"
   ]
  },
  {
   "cell_type": "code",
   "execution_count": 11,
   "metadata": {},
   "outputs": [],
   "source": [
    "#Pega as strings das palavras relevantes e irrelevantes e as armazena\n",
    "\n",
    "#x é utilizado de contador\n",
    "x = 0\n",
    "relevantes = ''\n",
    "irrelevantes = ''\n",
    "for i in train.Classificação:\n",
    "    if i == 1:\n",
    "        relevantes += train.Treinamento[x] +  ' '\n",
    "    else:\n",
    "        irrelevantes += train.Treinamento[x]+ ' '\n",
    "    x += 1\n",
    "\n",
    "        "
   ]
  },
  {
   "cell_type": "markdown",
   "metadata": {},
   "source": [
    "##### Guarda em uma base de dados(pd.Series) todas as palavras relevantes a partir da string anterior"
   ]
  },
  {
   "cell_type": "code",
   "execution_count": 12,
   "metadata": {},
   "outputs": [
    {
     "data": {
      "text/plain": [
       "casa     161\n",
       "papel    159\n",
       "la       133\n",
       "😭         46\n",
       "lá        29\n",
       "dtype: int64"
      ]
     },
     "execution_count": 12,
     "metadata": {},
     "output_type": "execute_result"
    }
   ],
   "source": [
    "#Pega todas as palavras incluindo repetidas que são consideradas relevantes e armazena numa lista\n",
    "todas_palavras_relevantes = relevantes.split()\n",
    "\n",
    "#Cria uma Série desta lista\n",
    "serie_relevantes = pd.Series(todas_palavras_relevantes)\n",
    "\n",
    "#Descobre as frequências absolutas das palavras\n",
    "tabela_relevantes = serie_relevantes.value_counts()\n",
    "\n",
    "\n",
    "tabela_relevantes.head(5)"
   ]
  },
  {
   "cell_type": "markdown",
   "metadata": {},
   "source": [
    "##### Guarda em uma base de dados(pd.Series) todas as palavras irrelevantes"
   ]
  },
  {
   "cell_type": "code",
   "execution_count": 13,
   "metadata": {},
   "outputs": [
    {
     "data": {
      "text/plain": [
       "casa        139\n",
       "papel       135\n",
       "la          108\n",
       "lá           29\n",
       "assistir     21\n",
       "dtype: int64"
      ]
     },
     "execution_count": 13,
     "metadata": {},
     "output_type": "execute_result"
    }
   ],
   "source": [
    "#Pega todas as palavras incluindo repetidas que são consideradas irrelevantes e armazena numa lista\n",
    "todas_palavras_irrelevantes = irrelevantes.split()\n",
    "\n",
    "#Cria uma Série desta lista\n",
    "serie_irrelevantes = pd.Series(todas_palavras_irrelevantes)\n",
    "\n",
    "#Descobre as frequências absolutas das palavras\n",
    "tabela_irrelevantes = serie_irrelevantes.value_counts()\n",
    "\n",
    "tabela_irrelevantes.head(5)"
   ]
  },
  {
   "cell_type": "markdown",
   "metadata": {},
   "source": [
    "##### Guarda em uma lista todas as palavras relevantes e irrelevantes não repetidas"
   ]
  },
  {
   "cell_type": "code",
   "execution_count": 14,
   "metadata": {},
   "outputs": [],
   "source": [
    "#Pega todas as palavras não repetidas\n",
    "palavras_totais_nao_repetidas = []\n",
    "\n",
    "for i in serie_relevantes:\n",
    "    if i not in palavras_totais_nao_repetidas:\n",
    "        palavras_totais_nao_repetidas.append(i)\n",
    "        \n",
    "        \n",
    "for i in serie_irrelevantes:\n",
    "    if i not in palavras_totais_nao_repetidas:\n",
    "        palavras_totais_nao_repetidas.append(i)\n",
    "        \n",
    "\n",
    "        "
   ]
  },
  {
   "cell_type": "markdown",
   "metadata": {},
   "source": [
    "##### Guarda em uma base de dados(pd.Series) todas as palavras incluindo repetições"
   ]
  },
  {
   "cell_type": "code",
   "execution_count": 15,
   "metadata": {},
   "outputs": [
    {
     "data": {
      "text/plain": [
       "casa     300\n",
       "papel    294\n",
       "la       241\n",
       "lá        58\n",
       "😭         46\n",
       "dtype: int64"
      ]
     },
     "execution_count": 15,
     "metadata": {},
     "output_type": "execute_result"
    }
   ],
   "source": [
    "#Pega todas as palavras incluindo repetidas\n",
    "todas_palavras_repetidas = todas_palavras_irrelevantes + todas_palavras_relevantes \n",
    "\n",
    "#Cria uma Série desta lista\n",
    "serie_total = pd.Series(todas_palavras_repetidas)\n",
    "\n",
    "#Descobre as frequências absolutas das palavras\n",
    "tabela_total = serie_total.value_counts()\n",
    "\n",
    "tabela_total.head(5)"
   ]
  },
  {
   "cell_type": "markdown",
   "metadata": {},
   "source": [
    "##### Cria uma matriz em que cada Tweet presente na lista possui dentro de si uma lista de palavras"
   ]
  },
  {
   "cell_type": "code",
   "execution_count": 16,
   "metadata": {},
   "outputs": [],
   "source": [
    "#Cria uma lista em que cada tweet da planilha Teste é separado por suas respectivas palavras\n",
    "\n",
    "testes = []\n",
    "\n",
    "for i in range(0,len(test.Classificação)):\n",
    "    testes.append(test.Teste[i].split())\n",
    "    \n",
    "    \n",
    "\n",
    "    "
   ]
  },
  {
   "cell_type": "markdown",
   "metadata": {},
   "source": [
    "# Probabilidades"
   ]
  },
  {
   "cell_type": "markdown",
   "metadata": {},
   "source": [
    "Primeiramente é necessário descobrir a probabilidade de palavras relevantes ou irrelevantes em relação as palavras totais.\n",
    "\n",
    "-NI( Número de palavras Irrelevantes)\n",
    "\n",
    "-NR (Número de palavras Relevantes)\n",
    "\n",
    "-Total\n",
    "\n",
    "\n",
    "$\\quad P(R) = \\frac{NR}{Total}$\n",
    "\n",
    "$\\quad P(I)= \\frac{NI}{Total}$"
   ]
  },
  {
   "cell_type": "code",
   "execution_count": 17,
   "metadata": {},
   "outputs": [
    {
     "name": "stdout",
     "output_type": "stream",
     "text": [
      "1.0\n"
     ]
    }
   ],
   "source": [
    "#Probabilidades do Tweet ser relevante ou não baseado na planilha Treinamento\n",
    "P_r = len(todas_palavras_relevantes)/len(todas_palavras_repetidas)\n",
    "\n",
    "P_i = len(todas_palavras_irrelevantes)/len(todas_palavras_repetidas)\n",
    "\n",
    "print(P_r + P_i)"
   ]
  },
  {
   "cell_type": "markdown",
   "metadata": {},
   "source": [
    "## Naive-Bayes"
   ]
  },
  {
   "cell_type": "markdown",
   "metadata": {},
   "source": [
    "É possível utilizar o **Teorema de Bayes** para obter uma probabilidade condicional $P(R|Tweet)$ da seguinta forma:\n",
    "\n",
    "$$P(R|Tweet) = \\frac{P(Tweet|R) P(R)}{P(Tweet)}$$\n",
    "\n",
    "<br>\n",
    "\n",
    "<br>\n",
    "\n",
    "O processo é análogo para $P(I|Tweet)$:\n",
    "\n",
    "$$P(I|Tweet) = \\frac{P(Tweet|I) P(I)}{P(Tweet)}$$\n",
    "\n",
    "Probabilidades necessárias para realizar o calculo: \n",
    "- $P(R|Tweet)$\n",
    "- $P(I|Tweet)$\n",
    "- $P(R)$:\n",
    "- $P(I)$\n",
    "- $P(Tweet)$\n"
   ]
  },
  {
   "cell_type": "markdown",
   "metadata": {},
   "source": [
    "### A ingenuidade - Naïve Bayes"
   ]
  },
  {
   "cell_type": "markdown",
   "metadata": {},
   "source": [
    "A parte ingênua do Naïve Bayes, que consiste em assumir que as palavras são independentes entre si e que sua ordem na frase não importa. \n",
    "\n",
    "\n",
    "Ou seja:\n",
    "\n",
    "p = primeira palavra\n",
    "\n",
    "p2 = segunda palavra\n",
    "\n",
    "pn = n-ésima palavra \n",
    "\n",
    "$\\quad P(R|Tweet) = \n",
    "\\frac{P(p|R)\\cdot P(p2|R)\\cdot P(p3|R)\\cdot ... P(pn|R)\\cdot P(R)\\cdot}{P(Tweet)}$\n",
    "\n",
    "$\\quad P(I|Tweet) = \n",
    "\\frac{P(p|I)\\cdot P(p2|I)\\cdot P(p3|I)\\cdot ... P(pn|I)\\cdot P(I)\\cdot}{P(Tweet)}$\n",
    "\n",
    "<br>\n"
   ]
  },
  {
   "cell_type": "markdown",
   "metadata": {},
   "source": [
    "#### Mas e se a palavra n não existir em R ou I?"
   ]
  },
  {
   "cell_type": "markdown",
   "metadata": {},
   "source": [
    "$P(pn|I) = 0$\n",
    "\n",
    "$P(pn|R) = 0$\n",
    "\n",
    "usando a formula acima:\n",
    "\n",
    "$P(R|Tweet) = 0$\n",
    "\n",
    "$P(I|Tweet) = 0$\n",
    "\n",
    "Isso é inconcebível, como resolver?\n",
    "\n",
    "Uma maneira é o método de Suavização de Laplace"
   ]
  },
  {
   "cell_type": "markdown",
   "metadata": {},
   "source": [
    "###  Suavização de Laplace"
   ]
  },
  {
   "cell_type": "markdown",
   "metadata": {},
   "source": [
    "Variáveis:\n",
    "\n",
    "Far = Frequência absoluta relevante da palavra no conjunto de palavras relevantes\n",
    "\n",
    "Prr =Frequência absoluta de palavras relevantes incluindo repetidas\n",
    "\n",
    "Ptnr = Frequência absoluta do total de palavras não incuindo palavras repetidas\n",
    "\n",
    "Fir = Frequência absoluta da palavra no conjunto de palavras irrelevantes \n",
    "\n",
    "Pir = Frequência absoluta de palavras irrelevantes incluindo repetidas\n",
    "\n",
    "\n",
    "\n",
    "*Suavização de Laplace*:\n",
    "\n",
    "\n",
    "$ P(pn|R) = \\frac{Far + 1}{Prr + Ptnr}$\n",
    "\n",
    "$ P(pn|I) = \\frac{Fai + 1}{Pir + Ptnr}$\n",
    "\n",
    "Desse modo:\n",
    "\n",
    "Caso não haja a palavra na base de dados R ou I:\n",
    "\n",
    "$ P(pn|R) = \\frac{0 + 1}{Prr + Ptnr}$\n",
    "\n",
    "$ P(pn|I) = \\frac{0 + 1}{Pir + Ptnr}$\n",
    "\n",
    "Desse modo $ P(pn|R)$ e $ P(pn|I)$ são diferentes de 0, impedindo o que aconteceu anteriormente.\n",
    "\n",
    "Já que os dois estão sendo divididos por $P(Tweet)$ é possível cortar essa probabilidade.\n",
    "\n",
    "Aplicando a formula abaixo a partir de laplace:\n",
    "\n",
    "$\\quad P(R|Tweet) = P(p|R)\\cdot P(p2|R)\\cdot P(p3|R)\\cdot ... P(pn|R)\\cdot P(R)$\n",
    "\n",
    "$\\quad P(I|Tweet) = P(p|I)\\cdot P(p2|I)\\cdot P(p3|I)\\cdot ... P(pn|I)\\cdot P(I)$\n",
    "\n",
    "\n",
    "Assim, a **Classificação da frase** se dará conforme abaixo:\n",
    "\n",
    "$\\quad \\Rightarrow$ Se $P(R|Tweet) > P(I|Tweet)$, então o Tweet será classificado como de *Relevante*\n",
    "\n",
    "$\\quad \\Rightarrow$ Se $P(R|Tweet) < P(I|Tweet)$, então o Tweet será classificado como de *Irrelevante*"
   ]
  },
  {
   "cell_type": "markdown",
   "metadata": {},
   "source": [
    "### Colocando isto em prática:"
   ]
  },
  {
   "cell_type": "markdown",
   "metadata": {},
   "source": [
    "#### Funções:"
   ]
  },
  {
   "cell_type": "code",
   "execution_count": 18,
   "metadata": {},
   "outputs": [],
   "source": [
    "#Função que descobre a frequência absoluta relevante de uma das palavras de um Tweet\n",
    "def ocorrencias_relevantes(palavra):\n",
    "    if palavra not in todas_palavras_relevantes:\n",
    "        freq_absoluta_relevante = 0\n",
    "    else:\n",
    "        freq_absoluta_relevante = tabela_relevantes[palavra]\n",
    "    return freq_absoluta_relevante\n",
    "\n",
    "#Função que descobre a frequência absoluta irrelevante de uma das palavras de um Tweet\n",
    "def ocorrencias_irrelevantes(palavra):\n",
    "    if palavra not in todas_palavras_irrelevantes:\n",
    "        freq_absoluta_irrelevante = 0\n",
    "    else:\n",
    "        freq_absoluta_irrelevante = tabela_irrelevantes[palavra]\n",
    "    return freq_absoluta_irrelevante"
   ]
  },
  {
   "cell_type": "markdown",
   "metadata": {},
   "source": [
    "#### Aplicando o Classificador:"
   ]
  },
  {
   "cell_type": "code",
   "execution_count": 19,
   "metadata": {},
   "outputs": [],
   "source": [
    "#Cria uma lista com os valores 0 e 1 para não relevante e relevante respectivamente\n",
    "lista_classificador = []\n",
    "    \n",
    "for i in range(0,len(testes)):\n",
    "    #É necessário começar com o valor 1 já que o valor incial 0 multiplicado por qualquer número da 0 e multiplicado por 1 o p\n",
    "    multiplicação_dos_laplaces_relevante = 1\n",
    "    \n",
    "    multiplicação_dos_laplaces_irrelevante = 1\n",
    "    \n",
    "    for palavra in testes[i]:\n",
    "        #Descobre a frequência absoluta relevante\n",
    "        freq_absoluta_relevante = ocorrencias_relevantes(palavra)\n",
    "        \n",
    "        #Descobre a frequência absoluta irrelevante\n",
    "        freq_absoluta_irrelevante = ocorrencias_irrelevantes(palavra)\n",
    "        \n",
    "        #Usa a suavização de Laplace para certa palavra do Tweet e tem seu valor multiplicado pelas suavizações anteriores ou posteriores\n",
    "        multiplicação_dos_laplaces_relevante *= (freq_absoluta_relevante + 1)/(len(todas_palavras_relevantes) + len(palavras_totais_nao_repetidas) )\n",
    "        \n",
    "        multiplicação_dos_laplaces_irrelevante *= (freq_absoluta_irrelevante + 1)/(len(todas_palavras_irrelevantes) + len(palavras_totais_nao_repetidas))\n",
    "        \n",
    "    #Calculo da Probabilidade do Tweet ser relevante ou não\n",
    "    Prob_tweet_relevante = P_r * multiplicação_dos_laplaces_relevante\n",
    "    Prob_tweet_irrelevante = P_i * multiplicação_dos_laplaces_irrelevante\n",
    "    \n",
    "    #Classifica os Tweets de acordo com as probabilidades\n",
    "    if Prob_tweet_relevante > Prob_tweet_irrelevante:\n",
    "        lista_classificador.append(1)\n",
    "        \n",
    "    else:\n",
    "        lista_classificador.append(0)\n",
    "        \n",
    "        \n",
    "\n",
    "#Adiciona mais uma coluna com os valores classificados para o serial test            \n",
    "test['Naive-Bayes'] = lista_classificador     \n",
    "            \n"
   ]
  },
  {
   "cell_type": "markdown",
   "metadata": {},
   "source": [
    "___\n",
    "### Verificando a performance do Classificador\n",
    "\n",
    "Agora você deve testar o seu classificador com a base de Testes."
   ]
  },
  {
   "cell_type": "code",
   "execution_count": 20,
   "metadata": {},
   "outputs": [
    {
     "data": {
      "text/html": [
       "<div>\n",
       "<style scoped>\n",
       "    .dataframe tbody tr th:only-of-type {\n",
       "        vertical-align: middle;\n",
       "    }\n",
       "\n",
       "    .dataframe tbody tr th {\n",
       "        vertical-align: top;\n",
       "    }\n",
       "\n",
       "    .dataframe thead th {\n",
       "        text-align: right;\n",
       "    }\n",
       "</style>\n",
       "<table border=\"1\" class=\"dataframe\">\n",
       "  <thead>\n",
       "    <tr style=\"text-align: right;\">\n",
       "      <th></th>\n",
       "      <th>Teste</th>\n",
       "      <th>Classificação</th>\n",
       "      <th>Naive-Bayes</th>\n",
       "    </tr>\n",
       "  </thead>\n",
       "  <tbody>\n",
       "    <tr>\n",
       "      <th>0</th>\n",
       "      <td>la casa de papel me decepcionou em um nível</td>\n",
       "      <td>1.0</td>\n",
       "      <td>1</td>\n",
       "    </tr>\n",
       "    <tr>\n",
       "      <th>1</th>\n",
       "      <td>eu assisti la casa de papel de uma vez só  🙄  ...</td>\n",
       "      <td>0.0</td>\n",
       "      <td>1</td>\n",
       "    </tr>\n",
       "    <tr>\n",
       "      <th>2</th>\n",
       "      <td>eu vou dar ontem meu humor não tava dos melhor...</td>\n",
       "      <td>1.0</td>\n",
       "      <td>0</td>\n",
       "    </tr>\n",
       "    <tr>\n",
       "      <th>3</th>\n",
       "      <td>eu vou fazer igual o professor em lá casa de p...</td>\n",
       "      <td>0.0</td>\n",
       "      <td>0</td>\n",
       "    </tr>\n",
       "    <tr>\n",
       "      <th>4</th>\n",
       "      <td>me sentindo uma grandessíssima trouxa por ter ...</td>\n",
       "      <td>1.0</td>\n",
       "      <td>0</td>\n",
       "    </tr>\n",
       "    <tr>\n",
       "      <th>5</th>\n",
       "      <td>nem falei mas achei essa temporadade la casa d...</td>\n",
       "      <td>1.0</td>\n",
       "      <td>1</td>\n",
       "    </tr>\n",
       "    <tr>\n",
       "      <th>6</th>\n",
       "      <td>esse final de la casa de papel tnc que odio 🤬  🥺</td>\n",
       "      <td>1.0</td>\n",
       "      <td>1</td>\n",
       "    </tr>\n",
       "    <tr>\n",
       "      <th>7</th>\n",
       "      <td>um seriado que todo mundo já assistiu mas eu n...</td>\n",
       "      <td>0.0</td>\n",
       "      <td>0</td>\n",
       "    </tr>\n",
       "    <tr>\n",
       "      <th>8</th>\n",
       "      <td>professor la casa de papel</td>\n",
       "      <td>0.0</td>\n",
       "      <td>0</td>\n",
       "    </tr>\n",
       "    <tr>\n",
       "      <th>9</th>\n",
       "      <td>viu a temporada que lançou de la casa de papel...</td>\n",
       "      <td>1.0</td>\n",
       "      <td>1</td>\n",
       "    </tr>\n",
       "  </tbody>\n",
       "</table>\n",
       "</div>"
      ],
      "text/plain": [
       "                                               Teste  Classificação  \\\n",
       "0        la casa de papel me decepcionou em um nível            1.0   \n",
       "1  eu assisti la casa de papel de uma vez só  🙄  ...            0.0   \n",
       "2  eu vou dar ontem meu humor não tava dos melhor...            1.0   \n",
       "3  eu vou fazer igual o professor em lá casa de p...            0.0   \n",
       "4  me sentindo uma grandessíssima trouxa por ter ...            1.0   \n",
       "5  nem falei mas achei essa temporadade la casa d...            1.0   \n",
       "6  esse final de la casa de papel tnc que odio 🤬  🥺             1.0   \n",
       "7  um seriado que todo mundo já assistiu mas eu n...            0.0   \n",
       "8                       professor la casa de papel              0.0   \n",
       "9  viu a temporada que lançou de la casa de papel...            1.0   \n",
       "\n",
       "   Naive-Bayes  \n",
       "0            1  \n",
       "1            1  \n",
       "2            0  \n",
       "3            0  \n",
       "4            0  \n",
       "5            1  \n",
       "6            1  \n",
       "7            0  \n",
       "8            0  \n",
       "9            1  "
      ]
     },
     "execution_count": 20,
     "metadata": {},
     "output_type": "execute_result"
    }
   ],
   "source": [
    "#Data Frame com adição do classificador\n",
    "test.head(10)"
   ]
  },
  {
   "cell_type": "markdown",
   "metadata": {},
   "source": [
    "# Comparação do Classificador x Base de Testes"
   ]
  },
  {
   "cell_type": "code",
   "execution_count": 21,
   "metadata": {},
   "outputs": [
    {
     "data": {
      "text/html": [
       "<div>\n",
       "<style scoped>\n",
       "    .dataframe tbody tr th:only-of-type {\n",
       "        vertical-align: middle;\n",
       "    }\n",
       "\n",
       "    .dataframe tbody tr th {\n",
       "        vertical-align: top;\n",
       "    }\n",
       "\n",
       "    .dataframe thead th {\n",
       "        text-align: right;\n",
       "    }\n",
       "</style>\n",
       "<table border=\"1\" class=\"dataframe\">\n",
       "  <thead>\n",
       "    <tr style=\"text-align: right;\">\n",
       "      <th>Naive-Bayes</th>\n",
       "      <th>0</th>\n",
       "      <th>1</th>\n",
       "    </tr>\n",
       "    <tr>\n",
       "      <th>Classificação</th>\n",
       "      <th></th>\n",
       "      <th></th>\n",
       "    </tr>\n",
       "  </thead>\n",
       "  <tbody>\n",
       "    <tr>\n",
       "      <th>0.0</th>\n",
       "      <td>35.0%</td>\n",
       "      <td>20.5%</td>\n",
       "    </tr>\n",
       "    <tr>\n",
       "      <th>1.0</th>\n",
       "      <td>13.5%</td>\n",
       "      <td>31.0%</td>\n",
       "    </tr>\n",
       "  </tbody>\n",
       "</table>\n",
       "</div>"
      ],
      "text/plain": [
       "Naive-Bayes        0      1\n",
       "Classificação              \n",
       "0.0            35.0%  20.5%\n",
       "1.0            13.5%  31.0%"
      ]
     },
     "metadata": {},
     "output_type": "display_data"
    }
   ],
   "source": [
    "#Cria uma tabela comparativa entre o classificador e a base de testes\n",
    "Tabela_Comparativa = pd.crosstab(test.Classificação, test['Naive-Bayes'], normalize = True).mul(100).round(4)\n",
    "display(Tabela_Comparativa.astype(str)+'%')"
   ]
  },
  {
   "cell_type": "markdown",
   "metadata": {},
   "source": [
    "##### Calculando quantidade de acerto e erros do classificador  "
   ]
  },
  {
   "cell_type": "code",
   "execution_count": 22,
   "metadata": {},
   "outputs": [
    {
     "name": "stdout",
     "output_type": "stream",
     "text": [
      "A porcentagem de mensagens relavantes consideradas relevantes foi de 31.0% .\n",
      "A porcentagem de mensagens relavantes consideradas irrelevantes foi de 13.5% .\n",
      "A porcentagem de mensagens irrelavantes consideradas relevantes foi de 20.5% .\n",
      "A porcentagem de mensagens irrelavantes consideradas irrelevantes foi de 35.0% .\n",
      "A acurácia do modelo é de 66.0%\n"
     ]
    }
   ],
   "source": [
    "#Porcentagem de acertos\n",
    "acuracia = Tabela_Comparativa[0][0] + Tabela_Comparativa[1][1]\n",
    "#Verdadeiro Negativo porcentagem\n",
    "vn = Tabela_Comparativa[0][0]\n",
    "#Verdadeiro Positivo porcentagem\n",
    "vp = Tabela_Comparativa[1][1]\n",
    "#Falso Positivo porcentagem\n",
    "fp = Tabela_Comparativa[1][0]\n",
    "#Falso Negativo porcentagem\n",
    "fn = Tabela_Comparativa[0][1]\n",
    "\n",
    "print('A porcentagem de mensagens relavantes consideradas relevantes foi de {}% .'.format(vp))\n",
    "print('A porcentagem de mensagens relavantes consideradas irrelevantes foi de {}% .'.format(fn))\n",
    "print('A porcentagem de mensagens irrelavantes consideradas relevantes foi de {}% .'.format(fp))\n",
    "print('A porcentagem de mensagens irrelavantes consideradas irrelevantes foi de {}% .'.format(vn))\n",
    "print('A acurácia do modelo é de {}%'.format(acuracia))"
   ]
  },
  {
   "cell_type": "markdown",
   "metadata": {},
   "source": [
    "___\n",
    "### Concluindo"
   ]
  },
  {
   "cell_type": "markdown",
   "metadata": {},
   "source": [
    "Em suma, nosso classificador teve uma performance razoável, já que possui uma acurácia de 66.0%, sendo assim 66.0% das mensagens foram classificadas como deveriam.\n",
    "\n",
    "Entre as mensagens, elas foram classificadas de 4 maneiras diferentes:\n",
    "\n",
    "-As verdadeiras positivas que constituem 31,0%, sendo elas mensagens relevantes classificadas como relevantes.\n",
    "\n",
    "-As verdadeiras negativas que constituem 35,0%, sendo elas mensagens irrelevantes e que são\n",
    "classificadas como irrelevantes.\n",
    "\n",
    "-As falso positivos que constituem 20,5%, sendo elas mensagens irrelevantes e que são classificadas\n",
    "como relevantes.\n",
    "\n",
    "-As falsos negativos que constituem 13,5% das mensagens, sendo elas mensagens relevantes e que são classificadas\n",
    "como irrelevantes."
   ]
  },
  {
   "cell_type": "markdown",
   "metadata": {},
   "source": [
    "A maior quantidade de erros do nosso classificador é dada por falsos positivos, a performance do nosso modelo pode ter sido afetada por diferentes razões:\n",
    "\n",
    "-Uma dessas razões é o fato que o classificador é dependente da base de dados usada no treinamento, sendo assim a chance de ele classificar erroneamente uma frase aumenta caso várias palavras dessa frase não estejam nessa base de dados. Isso o torna enviesado a partir de sua base de dados usada em seu treinamento.\n",
    "\n",
    "-Outra delas é dada por o classificador calcular a possibilidade de uma mensagem ser relevante ou não por um modelo inteiramente matemático, sem levar em conta o sentido semântico de palavras e gírias da língua portuguesa.\n"
   ]
  },
  {
   "cell_type": "markdown",
   "metadata": {},
   "source": [
    "Como dito antes o classificador não leva em conta o sentido semântico do Tweet, podendo observar mais claramente isso nos casos de sarcasmo e dupla negação. Relembrando no nosso projeto os Tweets foram classificados como relevante caso eles fizessem parte de um desses tópicos:\n",
    "\n",
    "-Falar bem ou mal da série sendo eles comentários construtivos ou não.\n",
    "\n",
    "-Falar ou mencionar quinta temporada.\n",
    "\n",
    "-Os Tweets em que mostra que a pessoas se emocionou assistindo a série.\n",
    "\n",
    "Sendo assim, as frases de sarcasmo e dupla negação podem ser consideradas irrelevantes quando o tópico é falar positivamente ou negativamente da série. Um exemplo que não está na base de treinamento ou de testes é a frase \"Eu amo a série #sqn\" ou a frase \"Eu não vi ninguém que realmente gosta série\", nessas frases o sentido semântico não importa já que mesmo que o classificador veja essa frase como um comentário que fala bem ou mal da série a única coisa que importa é só classificador conseguirá classificar essa mensagem como relevante ou não.\n",
    "\n",
    "Ocorre uma coisa parecida para o tópico de falar sobre a quinta temporada, já que nele as frases de sarcasmo e dupla negação pode, ser consideradas irrelevantes, uma vez que caso ele mencione a quinta temporada não importa se a frase possui sarcasmo ou dupla negação.\n",
    "\n",
    "Já no tópico das pessoas terem se emocionado assistindo a série as frases de sarcasmo e dupla negação podem impactar a classificação. Para ver isso em prática foi adicionado um Tweet sarcástico pela nossa equipe na posição 200 da base de dados(esse Tweet por não ter sido classificação manualmente não impacta a acurácia do classificador calculada previamente) , nele o Tweet \"Chorei mto nessa série #SQN\" que era pra ser classificado como irrelevante foi classificado como relevante, dessa maneira é possível enxergar como nosso modelo matemático é ingênuo nesse tópico já pode acabar se confundindo em relação a frases sarcásticas e de dupla negação.\n"
   ]
  },
  {
   "cell_type": "markdown",
   "metadata": {},
   "source": [
    "Nossa equipe possui um plano de expansão em mente para o futuro, ele consiste em:\n",
    "\n",
    "-Lematizar as palavras da base de dados a fim de aumentar ainda mais a acurácia, já que palavras diferentes como jogam e jogar seriam consideradas uma única palavra após a lematização.\n",
    "\n",
    "-Comparar diferentes resultados da classificação baseados em diferentes dados usados para o treino a fim de diminuir o viés do classificador.\n",
    "\n",
    "-Criar um classificador diferente para cada tópico facilitando a busca por dados específicos pela empresa.\n",
    "\n",
    "\n",
    "Dado a proposta de expansão acima acredito que esse projeto deve continuar com o seu financiamento.\n",
    "\n"
   ]
  },
  {
   "cell_type": "markdown",
   "metadata": {},
   "source": [
    "## Porquê não usar o próprio classificador para gerar mais amostras de treinamento?"
   ]
  },
  {
   "cell_type": "markdown",
   "metadata": {},
   "source": [
    "Como dito anteriormente, o classificador utilizado em nosso projeto é dependente de sua base de dados que treina o classificador. A partir de somente Tweets nessa base de dados ele classifica se uma mensagem é ou não relevante. \n",
    "\n",
    "Desse modo, caso o modelo tenha algum tipo de viés ou tendência relacionada a sua base de dados ao usá-lo para gerar mais amostras de treinamento estaremos perpetuando esse modo de agir já que caso ele tenha a tendência de escolher um tipo de mensagem erroneamente ao adicionar esse Tweet classificado incorretamente pelo modelo em nossa base de treino não irá solucionar o problema, isso irá apenas aumentar a chance do classificador continuar cometendo o mesmo erro no futuro.  "
   ]
  },
  {
   "cell_type": "markdown",
   "metadata": {},
   "source": [
    "## O que fazer então?"
   ]
  },
  {
   "cell_type": "markdown",
   "metadata": {},
   "source": [
    "Algumas ações que podem melhorar o desempenho do Classificador:\n",
    "\n",
    "-Adicionar mais Tweets na base de treino e classificá-los manualmente\n",
    "\n",
    "-Comparar os resultados de acertos para diferentes bases de treino utilizadas\n"
   ]
  },
  {
   "cell_type": "markdown",
   "metadata": {},
   "source": [
    "___\n",
    "### Qualidade do Classificador a partir de novas separações dos tweets entre Treinamento e Teste\n",
    "\n",
    "Caso for fazer esse item do Projeto"
   ]
  },
  {
   "cell_type": "markdown",
   "metadata": {},
   "source": [
    "### Juntando o Dataframe\n"
   ]
  },
  {
   "cell_type": "markdown",
   "metadata": {},
   "source": [
    "Como o modelo anterior utiliza apenas uma base de treino e define se uma mensagem é relevante ou não a partir de apenas uma base de dados\n",
    "constituída pelos Tweets de treinamento. Decidimos observar como a base de dados afeta o nosso classificador para isso vamos checar os acertos do modelo para 100 diferentes bases de Treinamento.\n"
   ]
  },
  {
   "cell_type": "markdown",
   "metadata": {},
   "source": [
    "Combinando os Tweets de Treinamento e Teste em um único Dataframe"
   ]
  },
  {
   "cell_type": "code",
   "execution_count": 23,
   "metadata": {},
   "outputs": [
    {
     "data": {
      "text/html": [
       "<div>\n",
       "<style scoped>\n",
       "    .dataframe tbody tr th:only-of-type {\n",
       "        vertical-align: middle;\n",
       "    }\n",
       "\n",
       "    .dataframe tbody tr th {\n",
       "        vertical-align: top;\n",
       "    }\n",
       "\n",
       "    .dataframe thead th {\n",
       "        text-align: right;\n",
       "    }\n",
       "</style>\n",
       "<table border=\"1\" class=\"dataframe\">\n",
       "  <thead>\n",
       "    <tr style=\"text-align: right;\">\n",
       "      <th></th>\n",
       "      <th>Geral</th>\n",
       "      <th>Classificação</th>\n",
       "    </tr>\n",
       "  </thead>\n",
       "  <tbody>\n",
       "    <tr>\n",
       "      <th>0</th>\n",
       "      <td>slc ontem comecei a ver “la casa de papel” man...</td>\n",
       "      <td>1.0</td>\n",
       "    </tr>\n",
       "    <tr>\n",
       "      <th>1</th>\n",
       "      <td>mds alguém me empresta netflix pra eu ver lá c...</td>\n",
       "      <td>0.0</td>\n",
       "    </tr>\n",
       "    <tr>\n",
       "      <th>2</th>\n",
       "      <td>se bolsonaro fosse um personagem de la casa de...</td>\n",
       "      <td>0.0</td>\n",
       "    </tr>\n",
       "    <tr>\n",
       "      <th>3</th>\n",
       "      <td>to vendo lá casa de papel pela 2 vez 🥺</td>\n",
       "      <td>0.0</td>\n",
       "    </tr>\n",
       "    <tr>\n",
       "      <th>4</th>\n",
       "      <td>@stefslvatore muri pfvr n me dá spoiler de la ...</td>\n",
       "      <td>0.0</td>\n",
       "    </tr>\n",
       "  </tbody>\n",
       "</table>\n",
       "</div>"
      ],
      "text/plain": [
       "                                               Geral  Classificação\n",
       "0  slc ontem comecei a ver “la casa de papel” man...            1.0\n",
       "1  mds alguém me empresta netflix pra eu ver lá c...            0.0\n",
       "2  se bolsonaro fosse um personagem de la casa de...            0.0\n",
       "3             to vendo lá casa de papel pela 2 vez 🥺            0.0\n",
       "4  @stefslvatore muri pfvr n me dá spoiler de la ...            0.0"
      ]
     },
     "execution_count": 23,
     "metadata": {},
     "output_type": "execute_result"
    }
   ],
   "source": [
    "#Reutilizando as funções anteriores\n",
    "train = pd.read_excel(filename)\n",
    "\n",
    "test = pd.read_excel(filename, sheet_name = 'Teste')\n",
    "\n",
    "x = train.rename(columns={\"Treinamento\":\"Geral\"})\n",
    "\n",
    "#Retirando o exemplo de sarcasmo utilizado anteriormente\n",
    "teste_normal = test.drop([200], axis=0)\n",
    "\n",
    "y = teste_normal.rename(columns={\"Teste\":\"Geral\"})\n",
    "\n",
    "dataframe_combinado = pd.concat([x,y])\n",
    "\n",
    "dataframe_combinado.head(5)"
   ]
  },
  {
   "cell_type": "markdown",
   "metadata": {},
   "source": [
    "### Limpando o Novo Dataframe"
   ]
  },
  {
   "cell_type": "code",
   "execution_count": 24,
   "metadata": {},
   "outputs": [
    {
     "data": {
      "text/html": [
       "<div>\n",
       "<style scoped>\n",
       "    .dataframe tbody tr th:only-of-type {\n",
       "        vertical-align: middle;\n",
       "    }\n",
       "\n",
       "    .dataframe tbody tr th {\n",
       "        vertical-align: top;\n",
       "    }\n",
       "\n",
       "    .dataframe thead th {\n",
       "        text-align: right;\n",
       "    }\n",
       "</style>\n",
       "<table border=\"1\" class=\"dataframe\">\n",
       "  <thead>\n",
       "    <tr style=\"text-align: right;\">\n",
       "      <th></th>\n",
       "      <th>Geral</th>\n",
       "      <th>Classificação</th>\n",
       "    </tr>\n",
       "  </thead>\n",
       "  <tbody>\n",
       "    <tr>\n",
       "      <th>0</th>\n",
       "      <td>slc ontem comecei ver la casa papel maneiro de...</td>\n",
       "      <td>1.0</td>\n",
       "    </tr>\n",
       "    <tr>\n",
       "      <th>1</th>\n",
       "      <td>mds alguém empresta netflix pra ver lá casa pa...</td>\n",
       "      <td>0.0</td>\n",
       "    </tr>\n",
       "    <tr>\n",
       "      <th>2</th>\n",
       "      <td>bolsonaro personagem la casa papel definitivam...</td>\n",
       "      <td>0.0</td>\n",
       "    </tr>\n",
       "    <tr>\n",
       "      <th>3</th>\n",
       "      <td>to vendo lá casa papel 2 vez  🥺</td>\n",
       "      <td>0.0</td>\n",
       "    </tr>\n",
       "    <tr>\n",
       "      <th>4</th>\n",
       "      <td>muri pfvr n dá spoiler la casa papel n vi 1 te...</td>\n",
       "      <td>0.0</td>\n",
       "    </tr>\n",
       "  </tbody>\n",
       "</table>\n",
       "</div>"
      ],
      "text/plain": [
       "                                               Geral  Classificação\n",
       "0  slc ontem comecei ver la casa papel maneiro de...            1.0\n",
       "1  mds alguém empresta netflix pra ver lá casa pa...            0.0\n",
       "2  bolsonaro personagem la casa papel definitivam...            0.0\n",
       "3                    to vendo lá casa papel 2 vez  🥺            0.0\n",
       "4  muri pfvr n dá spoiler la casa papel n vi 1 te...            0.0"
      ]
     },
     "execution_count": 24,
     "metadata": {},
     "output_type": "execute_result"
    }
   ],
   "source": [
    "#Limpando Tweets\n",
    "Remove_URL(dataframe_combinado, 'Geral')\n",
    "\n",
    "\n",
    "contador = 0\n",
    "lista_combinado = []\n",
    "for i in dataframe_combinado.Geral:\n",
    "    x = limpa_username(i)\n",
    "    y = cleanup(x)\n",
    "    lista_combinado.append(y)\n",
    "    \n",
    "\n",
    "\n",
    "dataframe_combinado.Geral = lista_combinado\n",
    "\n",
    "valor_combinado = dataframe_combinado.Geral\n",
    "\n",
    "\n",
    "#Stop Words\n",
    "lista_x = []       \n",
    "for i in dataframe_combinado.Geral:\n",
    "    filtrado = filtro(i)\n",
    "    lista_x.append(filtrado)\n",
    "\n",
    "    \n",
    "    \n",
    "dataframe_combinado.Geral = lista_x\n",
    "\n",
    "dataframe_combinado.head(5)\n",
    "\n",
    "\n",
    "\n",
    "  "
   ]
  },
  {
   "cell_type": "markdown",
   "metadata": {},
   "source": [
    "### Embaralha os valores de Treino e Teste do Dataframe 100 vezes "
   ]
  },
  {
   "cell_type": "markdown",
   "metadata": {},
   "source": [
    "Esse embaralhamento é dado a fim de ver a quantidade de acertos (acurácia) para as diferentes bases de dados usadas como treino para o nosso classificador"
   ]
  },
  {
   "cell_type": "code",
   "execution_count": 25,
   "metadata": {},
   "outputs": [],
   "source": [
    "acuracias = []\n",
    "\n",
    "for i in range(0,100):\n",
    "    X_train, X_test = train_test_split(dataframe_combinado[[\"Geral\",\"Classificação\"]], test_size=0.4)\n",
    "\n",
    "    df_relevantes = X_train.loc[X_train.Classificação == 1.0]\n",
    "\n",
    "    df_irrelevantes = X_train.loc[X_train.Classificação == 0.0]\n",
    "\n",
    "    relevante = ''\n",
    "    for i in df_relevantes.Geral:\n",
    "        relevante += i +  ' '\n",
    "\n",
    "\n",
    "    irrelevante = ''\n",
    "\n",
    "    for i in df_irrelevantes.Geral:\n",
    "        irrelevante += i + ' '\n",
    "\n",
    "    #Pega todas as palavras incluindo repetidas que são consideradas relevantes e armazena numa lista\n",
    "    todas_palavras_relevantes = relevante.split()\n",
    "\n",
    "    #Cria uma Série desta lista\n",
    "    serie_relevantes = pd.Series(todas_palavras_relevantes)\n",
    "\n",
    "    #Descobre as frequências absolutas das palavras\n",
    "    tabela_relevantes = serie_relevantes.value_counts()\n",
    "\n",
    "\n",
    "    #Pega todas as palavras incluindo repetidas que são consideradas irrelevantes e armazena numa lista\n",
    "    todas_palavras_irrelevantes = irrelevante.split()\n",
    "\n",
    "    #Cria uma Série desta lista\n",
    "    serie_irrelevantes = pd.Series(todas_palavras_irrelevantes)\n",
    "\n",
    "    #Descobre as frequências absolutas das palavras\n",
    "    tabela_irrelevantes = serie_irrelevantes.value_counts()\n",
    "\n",
    "\n",
    "    #Pega todas as palavras não repetidas\n",
    "    palavras_totais_nao_repetidas = []\n",
    "\n",
    "    for i in serie_relevantes:\n",
    "        if i not in palavras_totais_nao_repetidas:\n",
    "            palavras_totais_nao_repetidas.append(i)\n",
    "\n",
    "\n",
    "    for i in serie_irrelevantes:\n",
    "        if i not in palavras_totais_nao_repetidas:\n",
    "            palavras_totais_nao_repetidas.append(i)\n",
    "\n",
    "    #Pega todas as palavras incluindo repetidas\n",
    "    todas_palavras_repetidas = todas_palavras_irrelevantes + todas_palavras_relevantes \n",
    "\n",
    "    #Cria uma Série desta lista\n",
    "    serie_total = pd.Series(todas_palavras_repetidas)\n",
    "\n",
    "    #Descobre as frequências absolutas das palavras\n",
    "    tabela_total = serie_total.value_counts()\n",
    "\n",
    "\n",
    "    #Cria uma lista em que cada tweet da planilha Teste é separado por suas respectivas palavras\n",
    "    testes = []\n",
    "    for i in X_test.Geral:\n",
    "        testes.append(i.split())\n",
    "\n",
    "    lista_classificador = []\n",
    "\n",
    "    for i in range(0,len(testes)):\n",
    "        #É necessário começar com o valor 1 já que o valor incial 0 multiplicado por qualquer número da 0 e multiplicado por 1 o primeiro valor da ele mesmo\n",
    "\n",
    "        multiplicação_dos_laplaces_relevante = 1\n",
    "\n",
    "        multiplicação_dos_laplaces_irrelevante = 1\n",
    "\n",
    "        for palavra in testes[i]:\n",
    "            #Descobre a frequência absoluta relevante\n",
    "            freq_absoluta_relevante = ocorrencias_relevantes(palavra)\n",
    "\n",
    "            #Descobre a frequência absoluta irrelevante\n",
    "            freq_absoluta_irrelevante = ocorrencias_irrelevantes(palavra)\n",
    "\n",
    "            #Usa a suavização de Laplace para certa palavra do Tweet e tem seu valor multiplicado pelas suavizações anteriores ou posteriores\n",
    "            multiplicação_dos_laplaces_relevante *= (freq_absoluta_relevante + 1)/(len(todas_palavras_relevantes) + len(palavras_totais_nao_repetidas) )\n",
    "\n",
    "            multiplicação_dos_laplaces_irrelevante *= (freq_absoluta_irrelevante + 1)/(len(todas_palavras_irrelevantes) + len(palavras_totais_nao_repetidas))\n",
    "\n",
    "        #Calculo da Probabilidade do Tweet ser relevante ou não\n",
    "        Prob_tweet_relevante = P_r * multiplicação_dos_laplaces_relevante\n",
    "        Prob_tweet_irrelevante = P_i * multiplicação_dos_laplaces_irrelevante\n",
    "\n",
    "        #Classifica os Tweets de acordo com as probabilidades\n",
    "        if Prob_tweet_relevante > Prob_tweet_irrelevante:\n",
    "            lista_classificador.append(1)\n",
    "\n",
    "        else:\n",
    "            lista_classificador.append(0)\n",
    "\n",
    "\n",
    "    #Adiciona mais uma coluna com os valores classificados para o serial test            \n",
    "    X_test['Modelo'] = lista_classificador\n",
    "\n",
    "    Tabela_Comparativa = pd.crosstab(X_test.Classificação, X_test.Modelo, normalize = True).mul(100).round(4)\n",
    "\n",
    "    acuracia = Tabela_Comparativa[0][0] + Tabela_Comparativa[1][1]\n",
    "\n",
    "    acuracias.append(acuracia)"
   ]
  },
  {
   "cell_type": "markdown",
   "metadata": {},
   "source": [
    "## Histogramas "
   ]
  },
  {
   "cell_type": "markdown",
   "metadata": {},
   "source": [
    "A partir dos dados obtidos anteriormente é possível criar um Histograma comparando as a frequencia que as acurácias aparecem divididas para cada um dos 10 intervalos "
   ]
  },
  {
   "cell_type": "code",
   "execution_count": 26,
   "metadata": {},
   "outputs": [
    {
     "data": {
      "image/png": "[encoded data removed]",
      "text/plain": [
       "<Figure size 1080x504 with 1 Axes>"
      ]
     },
     "metadata": {
      "needs_background": "light"
     },
     "output_type": "display_data"
    }
   ],
   "source": [
    "plt.figure(figsize=(15 ,7))\n",
    "\n",
    "plt.subplot(111)\n",
    "plt.hist(acuracias, bins=10 , color='blue', edgecolor='white', alpha=0.4)\n",
    "plt.title('Acurácias x Número de Aparições no Intervalo')\n",
    "plt.xlabel('Acurácia em %')\n",
    "plt.ylabel('Número de Aparições no Intervalo')\n",
    "plt.show()\n",
    "\n"
   ]
  },
  {
   "cell_type": "markdown",
   "metadata": {},
   "source": [
    "### Histograma com Densidade no eixo y "
   ]
  },
  {
   "cell_type": "code",
   "execution_count": 27,
   "metadata": {},
   "outputs": [
    {
     "data": {
      "image/png": "[encoded data removed]",
      "text/plain": [
       "<Figure size 1080x504 with 1 Axes>"
      ]
     },
     "metadata": {
      "needs_background": "light"
     },
     "output_type": "display_data"
    }
   ],
   "source": [
    "plt.figure(figsize=(15 ,7))\n",
    "plt.subplot(111)\n",
    "plt.hist(acuracias, bins=10 , color='blue', edgecolor='white',density = True, alpha=0.4)\n",
    "plt.title('Acurácias x Densidade')\n",
    "plt.xlabel('Acurácia em %')\n",
    "plt.ylabel('Densidade')\n",
    "plt.show()"
   ]
  },
  {
   "cell_type": "markdown",
   "metadata": {},
   "source": [
    "## Conclusões Histogramas: "
   ]
  },
  {
   "cell_type": "markdown",
   "metadata": {},
   "source": [
    "A partir de ambos os histogramas é possível concluir que construir um Classificador considerando uma única vez a divisão da base de dados em treinamento e em teste pode ser uma escolha imprudente, uma vez que a base de dados utilizada como treino influência diretamente o classificador. Isso é demonstrado pelo histograma, em que ao compararmos a porcentagem de acerto de diferentes bases de Treino e Teste é possível perceber que as porcentagens flutuam em seu valor podendo variar até mais de 10% no valor obtido. \n",
    "\n",
    "Sendo assim, ao utilizar apenas uma divisão da base de dados em treinamento e em teste pode tornar o modelo enviesado e inconsistente. Desse modo, a escolha mais prudente seria analisar a fundo as faixas em que ocorre o maior número de incidências a fim de poder entender melhor o classificador, obtendo um valor mais consistente e preciso na análise dos Tweets.\n",
    "\n"
   ]
  },
  {
   "cell_type": "markdown",
   "metadata": {},
   "source": [
    "# Possíveis Melhorias:"
   ]
  },
  {
   "cell_type": "markdown",
   "metadata": {},
   "source": [
    "-Lematizar as palavras da base de dados a fim de aumentar ainda mais a acurácia, já que palavras diferentes como comi, comia, comia, comeu seriam consideradas um único grupo após a lematização.\n",
    "\n",
    "-Adicionar um maior número de Tweets classificados manualmente no dataframe de Treino, uma vez que quanto maior a base de dados maior é a chance de diferentes palavras que apareçam no momento da classificação estarem na base de dados. Desse modo, ajudando a performance do classificador.\n",
    "\n",
    "-Criar mais de duas classes para analisar os dados, a fim de ver se essa mudança auxilia o classificador positivamente e se ela permite uma melhor análise de dados. Para fazer isso precisaria mudar no dataframe original as classificações manuais e fazer o modelo com a suavização de Laplace para cada uma das novas classes.\n",
    "\n",
    "\n",
    "O site abaixo explica sobre o que é a lematização e sua implementação em python:\n",
    "https://www.datacamp.com/community/tutorials/stemming-lemmatization-python?utm_source=adwords_ppc&utm_campaignid=1455363063&utm_adgroupid=65083631748&utm_device=c&utm_keyword=&utm_matchtype=b&utm_network=g&utm_adpostion=&utm_creative=278443377095&utm_targetid=aud-299261629574:dsa-429603003980&utm_loc_interest_ms=&utm_loc_physical_ms=1001773&gclid=Cj0KCQjw18WKBhCUARIsAFiW7JyLugBcxsY1smRIh7M3zRTe3AgBh-Gej1Wmi3U6pD58yUd-FssWbgEaApIZEALw_wcB\n",
    "\n"
   ]
  },
  {
   "cell_type": "markdown",
   "metadata": {},
   "source": [
    "# Diferentes cenários para Naïve Bayes fora do contexto do projeto"
   ]
  },
  {
   "cell_type": "markdown",
   "metadata": {},
   "source": [
    "O classificador Naive Bayes pode não só ser utilizado como no nosso projeto em que seu uso foi para classificar pra uma empresa se os Tweets eram relevantes ou não para a organização. Mas ele também pode ser usado para classificar se algo é relevante ou não para o usuário ex: Anúncios e propagandas online, desse modo, permitindo um uso mais eficiente da publicidade por meio do uso dos dados do usuário. Outro exemplo seria classificar e-mails como relevante ou não, colocando os irrelevantes na caixa de spam.\n",
    "\n",
    "Ele geralmente é utilizado para analisar problemas com múltiplas classes. Sendo assim, há diversas situações em que usar o classificador pode ser usado:\n",
    "\n",
    "-Por exemplo, um médico poderia usar o classificador através dos dados escritos e sintomas de seus pacientes a chance de eles possuírem uma certa doença entre Muito Improvável, Improvável, Médio, Provável e Muito Provável. Ajudando-o a filtrar os seus pacientes.\n",
    "\n",
    "-Um botânico que estuda árvores de uma espécie, também poderia pegar os dados das idades e características físicas das árvores momentos antes de sua morte e classificar se ela ira cair ou não em 3 anos ou se a chance dela cair em 3 anos é Muito Improvável, Improvável, Médio, Provável e Muito Provável.\n"
   ]
  },
  {
   "cell_type": "markdown",
   "metadata": {},
   "source": [
    "___\n",
    "## Aperfeiçoamento:\n",
    "\n",
    "Trabalhos que conseguirem pelo menos conceito B vão evoluir em conceito dependendo da quantidade de itens avançados:\n",
    "\n",
    "* IMPLEMENTOU outras limpezas e transformações que não afetem a qualidade da informação contida nos tweets. Ex: stemming, lemmatization, stopwords\n",
    "* CORRIGIU separação de espaços entre palavras e emojis ou entre emojis e emojis\n",
    "* CRIOU categorias intermediárias de relevância baseadas na probabilidade: ex.: muito relevante, relevante, neutro, irrelevante, muito irrelevante. Pelo menos quatro categorias, com adição de mais tweets na base, conforme enunciado. (OBRIGATÓRIO PARA TRIOS, sem contar como item avançado)\n",
    "* EXPLICOU porquê não pode usar o próprio classificador para gerar mais amostras de treinamento\n",
    "* PROPÔS diferentes cenários para Naïve Bayes fora do contexto do projeto\n",
    "* SUGERIU e EXPLICOU melhorias reais com indicações concretas de como implementar (indicar como fazer e indicar material de pesquisa)\n",
    "* FEZ o item 6. Qualidade do Classificador a partir de novas separações dos tweets entre Treinamento e Teste descrito no enunciado do projeto (OBRIGATÓRIO para conceitos A ou A+)"
   ]
  },
  {
   "cell_type": "markdown",
   "metadata": {},
   "source": [
    "___\n",
    "## Referências"
   ]
  },
  {
   "cell_type": "markdown",
   "metadata": {},
   "source": [
    "[Naive Bayes and Text Classification](https://arxiv.org/pdf/1410.5329.pdf)  **Mais completo**\n",
    "\n",
    "[A practical explanation of a Naive Bayes Classifier](https://monkeylearn.com/blog/practical-explanation-naive-bayes-classifier/) **Mais simples**"
   ]
  },
  {
   "cell_type": "markdown",
   "metadata": {},
   "source": [
    "https://datascience.stackexchange.com/questions/15135/train-test-validation-set-splitting-in-sklearn\n",
    "    \n",
    "https://datascienceparichay.com/article/pandas-rename-column-names/\n",
    "\n",
    "https://scikit-learn.org/stable/modules/generated/sklearn.model_selection.train_test_split.html\n",
    "\n",
    "https://www.youtube.com/watch?v=ZHPwPHkrT4I&ab_channel=EvidenceN\n",
    "\n",
    "https://www.youtube.com/watch?v=yKsqn3JN4Qg&ab_channel=JieJenn\n",
    "\n",
    "https://stackabuse.com/removing-stop-words-from-strings-in-python/\n",
    "\n",
    "https://qastack.com.br/programming/5486337/how-to-remove-stop-words-using-nltk-or-python\n",
    "\n",
    "https://stackoverflow.com/questions/11331982/how-to-remove-any-url-within-a-string-in-python\n",
    "\n",
    "https://stackoverflow.com/questions/50830214/remove-usernames-from-twitter-data-using-python\n",
    "\n",
    "Materiais de Aula\n",
    "\n",
    "Alguns links de Referência foram perdidos por terem sido utilizados há mais de uma semana"
   ]
  },
  {
   "cell_type": "code",
   "execution_count": null,
   "metadata": {},
   "outputs": [],
   "source": []
  }
 ],
 "metadata": {
  "kernelspec": {
   "display_name": "Python 3",
   "language": "python",
   "name": "python3"
  },
  "language_info": {
   "codemirror_mode": {
    "name": "ipython",
    "version": 3
   },
   "file_extension": ".py",
   "mimetype": "text/x-python",
   "name": "python",
   "nbconvert_exporter": "python",
   "pygments_lexer": "ipython3",
   "version": "3.8.5"
  }
 },
 "nbformat": 4,
 "nbformat_minor": 4
}
